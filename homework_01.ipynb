{
 "cells": [
  {
   "cell_type": "markdown",
   "id": "1959da32",
   "metadata": {},
   "source": [
    "# Homework 01\n",
    "## Submission Instructions:\n",
    "1. Once the notebook is completed, **RESTART THE KERNEL AND RUN ALL CELLS**, save it and submit it. \n",
    "2. DO NOT submit the data from the assignment.\n",
    "3. Whenever we ask to .head(10) the results or print out a value, please use `print()` so for example `print(df.head(10))`. Print only the answers to the questions that have been asked.  Do not print the head of a dataset unless explicitly asked. \n",
    "4. Whenever displaying a graph use `plt.show()`\n",
    "5. For theoretical answers/short answers, use print() (e.g., print(\"your answer\")).\n",
    "6. Wherever we have code displayed to print out values, use that code as a template to print out your output.  For example, if we give you `print(f'Threshold for best accuracy: {}')` please use code in this style to print out your output."
   ]
  },
  {
   "cell_type": "code",
   "execution_count": 134,
   "id": "6cc5316f",
   "metadata": {},
   "outputs": [],
   "source": [
    "import re\n",
    "from pathlib import Path\n",
    "import json\n",
    "import pandas as pd\n",
    "import os"
   ]
  },
  {
   "cell_type": "markdown",
   "id": "eee83987",
   "metadata": {},
   "source": [
    "1. For this first assignment we will be parsing job postings from ZipRecruiter.  In the homework data data.zip, there are 2 folders:\n",
    "\n",
    "- search_results: This contains a folder for each search I did.  The folder is named f'search-{query}_location-{location}'.  Each file in those folders contains a page of the search results.  Most of these searches returned 1000+ results and so they should have 50 pages.\n",
    "- jobs: This contains all the job postings.  The name of each file is the jid (job ID) and is (I think) unique.\n",
    "\n",
    "For this first question, read in all the search results and extract the form_search, form_location and page_number as well as all the rawCanonicalZipJobPageUrls for each job"
   ]
  },
  {
   "cell_type": "code",
   "execution_count": 135,
   "id": "cc3b5998",
   "metadata": {},
   "outputs": [
    {
     "data": {
      "text/html": [
       "<div>\n",
       "<style scoped>\n",
       "    .dataframe tbody tr th:only-of-type {\n",
       "        vertical-align: middle;\n",
       "    }\n",
       "\n",
       "    .dataframe tbody tr th {\n",
       "        vertical-align: top;\n",
       "    }\n",
       "\n",
       "    .dataframe thead th {\n",
       "        text-align: right;\n",
       "    }\n",
       "</style>\n",
       "<table border=\"1\" class=\"dataframe\">\n",
       "  <thead>\n",
       "    <tr style=\"text-align: right;\">\n",
       "      <th></th>\n",
       "      <th>search</th>\n",
       "      <th>location</th>\n",
       "      <th>page_number</th>\n",
       "      <th>job_link</th>\n",
       "    </tr>\n",
       "  </thead>\n",
       "  <tbody>\n",
       "    <tr>\n",
       "      <th>0</th>\n",
       "      <td>ai_ml_engineer</td>\n",
       "      <td>United_States</td>\n",
       "      <td>1</td>\n",
       "      <td>/c/datanet-IT/Job/AI-ML-Engineer-(Prompt-Engin...</td>\n",
       "    </tr>\n",
       "    <tr>\n",
       "      <th>1</th>\n",
       "      <td>ai_ml_engineer</td>\n",
       "      <td>United_States</td>\n",
       "      <td>1</td>\n",
       "      <td>/c/Amicis-Global/Job/AI-ML-Engineer-Data-Scien...</td>\n",
       "    </tr>\n",
       "    <tr>\n",
       "      <th>2</th>\n",
       "      <td>ai_ml_engineer</td>\n",
       "      <td>United_States</td>\n",
       "      <td>1</td>\n",
       "      <td>/c/Optimum/Job/Software-Dev-Engineer-III/-in-B...</td>\n",
       "    </tr>\n",
       "    <tr>\n",
       "      <th>3</th>\n",
       "      <td>ai_ml_engineer</td>\n",
       "      <td>United_States</td>\n",
       "      <td>1</td>\n",
       "      <td>/c/University-of-Hawaii/Job/(Casual-Hire)-AI-M...</td>\n",
       "    </tr>\n",
       "    <tr>\n",
       "      <th>4</th>\n",
       "      <td>ai_ml_engineer</td>\n",
       "      <td>United_States</td>\n",
       "      <td>1</td>\n",
       "      <td>/c/Discover/Job/Principal-Cybersecurity-Engine...</td>\n",
       "    </tr>\n",
       "    <tr>\n",
       "      <th>...</th>\n",
       "      <td>...</td>\n",
       "      <td>...</td>\n",
       "      <td>...</td>\n",
       "      <td>...</td>\n",
       "    </tr>\n",
       "    <tr>\n",
       "      <th>9814</th>\n",
       "      <td>nlp_engineer</td>\n",
       "      <td>United_States</td>\n",
       "      <td>50</td>\n",
       "      <td>/c/Total-System-Services/Job/Manager,-AI-Engin...</td>\n",
       "    </tr>\n",
       "    <tr>\n",
       "      <th>9815</th>\n",
       "      <td>nlp_engineer</td>\n",
       "      <td>United_States</td>\n",
       "      <td>50</td>\n",
       "      <td>/c/Castandcrew/Job/Director,-Software-Engineer...</td>\n",
       "    </tr>\n",
       "    <tr>\n",
       "      <th>9816</th>\n",
       "      <td>nlp_engineer</td>\n",
       "      <td>United_States</td>\n",
       "      <td>50</td>\n",
       "      <td>/c/F.-Hoffmann-La-Roche-Ltd/Job/Data-Scientist...</td>\n",
       "    </tr>\n",
       "    <tr>\n",
       "      <th>9817</th>\n",
       "      <td>nlp_engineer</td>\n",
       "      <td>United_States</td>\n",
       "      <td>50</td>\n",
       "      <td>/c/BNY/Job/Vice-President,-Model-Risk-for-AI/-...</td>\n",
       "    </tr>\n",
       "    <tr>\n",
       "      <th>9818</th>\n",
       "      <td>nlp_engineer</td>\n",
       "      <td>United_States</td>\n",
       "      <td>50</td>\n",
       "      <td>/c/Mass-General-Brigham/Job/Senior-Data-Scient...</td>\n",
       "    </tr>\n",
       "  </tbody>\n",
       "</table>\n",
       "<p>9819 rows × 4 columns</p>\n",
       "</div>"
      ],
      "text/plain": [
       "              search       location  page_number  \\\n",
       "0     ai_ml_engineer  United_States            1   \n",
       "1     ai_ml_engineer  United_States            1   \n",
       "2     ai_ml_engineer  United_States            1   \n",
       "3     ai_ml_engineer  United_States            1   \n",
       "4     ai_ml_engineer  United_States            1   \n",
       "...              ...            ...          ...   \n",
       "9814    nlp_engineer  United_States           50   \n",
       "9815    nlp_engineer  United_States           50   \n",
       "9816    nlp_engineer  United_States           50   \n",
       "9817    nlp_engineer  United_States           50   \n",
       "9818    nlp_engineer  United_States           50   \n",
       "\n",
       "                                               job_link  \n",
       "0     /c/datanet-IT/Job/AI-ML-Engineer-(Prompt-Engin...  \n",
       "1     /c/Amicis-Global/Job/AI-ML-Engineer-Data-Scien...  \n",
       "2     /c/Optimum/Job/Software-Dev-Engineer-III/-in-B...  \n",
       "3     /c/University-of-Hawaii/Job/(Casual-Hire)-AI-M...  \n",
       "4     /c/Discover/Job/Principal-Cybersecurity-Engine...  \n",
       "...                                                 ...  \n",
       "9814  /c/Total-System-Services/Job/Manager,-AI-Engin...  \n",
       "9815  /c/Castandcrew/Job/Director,-Software-Engineer...  \n",
       "9816  /c/F.-Hoffmann-La-Roche-Ltd/Job/Data-Scientist...  \n",
       "9817  /c/BNY/Job/Vice-President,-Model-Risk-for-AI/-...  \n",
       "9818  /c/Mass-General-Brigham/Job/Senior-Data-Scient...  \n",
       "\n",
       "[9819 rows x 4 columns]"
      ]
     },
     "execution_count": 135,
     "metadata": {},
     "output_type": "execute_result"
    }
   ],
   "source": [
    "\n",
    "base_path = Path(\"data/search_results\")\n",
    "rows = []\n",
    "\n",
    "pat_dir  = re.compile(r\"^search-(?P<query>.+)_location-(?P<location>.+)$\")\n",
    "pat_page = re.compile(r\"^page_(?P<page_num>\\d+)$\")\n",
    "\n",
    "for directory in base_path.iterdir():\n",
    "    if not directory.is_dir():\n",
    "        continue \n",
    "\n",
    "    m = pat_dir.match(directory.name)\n",
    "    if not m:  \n",
    "        continue \n",
    "\n",
    "    form_search   = m.group(\"query\")\n",
    "    form_location = m.group(\"location\")\n",
    "\n",
    "    for file_path in directory.iterdir():\n",
    "        if not file_path.is_file() or file_path.suffix.lower() != \".json\":\n",
    "            continue  \n",
    "\n",
    "        pm = pat_page.match(file_path.stem)\n",
    "        if not pm:\n",
    "            continue \n",
    "\n",
    "        page_number = int(pm.group(\"page_num\"))\n",
    "\n",
    "        with open(file_path, \"r\", encoding=\"utf-8\") as f:\n",
    "            data = json.load(f)\n",
    "\n",
    "        job_cards = data.get(\"hydrateJobCardsResponse\", {}).get(\"jobCards\", [])\n",
    "        for card in job_cards:\n",
    "            url = card.get(\"rawCanonicalZipJobPageUrl\")\n",
    "            if url: \n",
    "                rows.append({\n",
    "                    \"search\": form_search,\n",
    "                    \"location\": form_location,\n",
    "                    \"page_number\": page_number,\n",
    "                    \"job_link\": url\n",
    "                })\n",
    "\n",
    "df = pd.DataFrame(rows)\n",
    "df"
   ]
  },
  {
   "cell_type": "markdown",
   "id": "74b0a6a7",
   "metadata": {},
   "source": [
    "2. Create a function, **using a regex**, to return the jid from each of the rawCanonicalZipJobPageUrls"
   ]
  },
  {
   "cell_type": "code",
   "execution_count": 136,
   "id": "95a0cf2d",
   "metadata": {},
   "outputs": [],
   "source": [
    "df['jid'] = df['job_link'].str.extract(r'jid=(.*)')"
   ]
  },
  {
   "attachments": {
    "image.png": {
     "image/png": "[encoded data removed]"
    }
   },
   "cell_type": "markdown",
   "id": "8879f47e",
   "metadata": {},
   "source": [
    "3. Create a data frame from the search results you extracted above and extract the jid using your function above.  Display the .head() of the data frame.  Use the column names as below\n",
    "\n",
    "![image.png](attachment:image.png)"
   ]
  },
  {
   "cell_type": "code",
   "execution_count": 137,
   "id": "808fbe56",
   "metadata": {},
   "outputs": [
    {
     "data": {
      "text/html": [
       "<div>\n",
       "<style scoped>\n",
       "    .dataframe tbody tr th:only-of-type {\n",
       "        vertical-align: middle;\n",
       "    }\n",
       "\n",
       "    .dataframe tbody tr th {\n",
       "        vertical-align: top;\n",
       "    }\n",
       "\n",
       "    .dataframe thead th {\n",
       "        text-align: right;\n",
       "    }\n",
       "</style>\n",
       "<table border=\"1\" class=\"dataframe\">\n",
       "  <thead>\n",
       "    <tr style=\"text-align: right;\">\n",
       "      <th></th>\n",
       "      <th>search</th>\n",
       "      <th>location</th>\n",
       "      <th>page_number</th>\n",
       "      <th>job_link</th>\n",
       "      <th>jid</th>\n",
       "    </tr>\n",
       "  </thead>\n",
       "  <tbody>\n",
       "    <tr>\n",
       "      <th>0</th>\n",
       "      <td>ai_ml_engineer</td>\n",
       "      <td>United_States</td>\n",
       "      <td>1</td>\n",
       "      <td>/c/datanet-IT/Job/AI-ML-Engineer-(Prompt-Engin...</td>\n",
       "      <td>a4656dc27c99c560</td>\n",
       "    </tr>\n",
       "    <tr>\n",
       "      <th>1</th>\n",
       "      <td>ai_ml_engineer</td>\n",
       "      <td>United_States</td>\n",
       "      <td>1</td>\n",
       "      <td>/c/Amicis-Global/Job/AI-ML-Engineer-Data-Scien...</td>\n",
       "      <td>f25d35eb820e146c</td>\n",
       "    </tr>\n",
       "    <tr>\n",
       "      <th>2</th>\n",
       "      <td>ai_ml_engineer</td>\n",
       "      <td>United_States</td>\n",
       "      <td>1</td>\n",
       "      <td>/c/Optimum/Job/Software-Dev-Engineer-III/-in-B...</td>\n",
       "      <td>0b4af12b072556bf</td>\n",
       "    </tr>\n",
       "    <tr>\n",
       "      <th>3</th>\n",
       "      <td>ai_ml_engineer</td>\n",
       "      <td>United_States</td>\n",
       "      <td>1</td>\n",
       "      <td>/c/University-of-Hawaii/Job/(Casual-Hire)-AI-M...</td>\n",
       "      <td>22fc998777a0ada8</td>\n",
       "    </tr>\n",
       "    <tr>\n",
       "      <th>4</th>\n",
       "      <td>ai_ml_engineer</td>\n",
       "      <td>United_States</td>\n",
       "      <td>1</td>\n",
       "      <td>/c/Discover/Job/Principal-Cybersecurity-Engine...</td>\n",
       "      <td>dc96adfa582c5503</td>\n",
       "    </tr>\n",
       "  </tbody>\n",
       "</table>\n",
       "</div>"
      ],
      "text/plain": [
       "           search       location  page_number  \\\n",
       "0  ai_ml_engineer  United_States            1   \n",
       "1  ai_ml_engineer  United_States            1   \n",
       "2  ai_ml_engineer  United_States            1   \n",
       "3  ai_ml_engineer  United_States            1   \n",
       "4  ai_ml_engineer  United_States            1   \n",
       "\n",
       "                                            job_link               jid  \n",
       "0  /c/datanet-IT/Job/AI-ML-Engineer-(Prompt-Engin...  a4656dc27c99c560  \n",
       "1  /c/Amicis-Global/Job/AI-ML-Engineer-Data-Scien...  f25d35eb820e146c  \n",
       "2  /c/Optimum/Job/Software-Dev-Engineer-III/-in-B...  0b4af12b072556bf  \n",
       "3  /c/University-of-Hawaii/Job/(Casual-Hire)-AI-M...  22fc998777a0ada8  \n",
       "4  /c/Discover/Job/Principal-Cybersecurity-Engine...  dc96adfa582c5503  "
      ]
     },
     "execution_count": 137,
     "metadata": {},
     "output_type": "execute_result"
    }
   ],
   "source": [
    "df.head()"
   ]
  },
  {
   "cell_type": "markdown",
   "id": "705b97da",
   "metadata": {},
   "source": [
    "4. Group by jid and count the job_links to see if there are any duplicate job ids.  Sort by the total count and .head() the results."
   ]
  },
  {
   "cell_type": "code",
   "execution_count": 138,
   "id": "dd63f6e3",
   "metadata": {},
   "outputs": [
    {
     "data": {
      "text/plain": [
       "jid\n",
       "29c3eb1678e94634    6\n",
       "fc816da3e229409e    6\n",
       "509a0f5b5f722bc4    5\n",
       "a775bdef89298c61    5\n",
       "948ed868b8761754    5\n",
       "Name: job_link, dtype: int64"
      ]
     },
     "execution_count": 138,
     "metadata": {},
     "output_type": "execute_result"
    }
   ],
   "source": [
    "df.groupby('jid')['job_link'].count().sort_values(ascending=False).head()"
   ]
  },
  {
   "cell_type": "markdown",
   "id": "1978eaf2",
   "metadata": {},
   "source": [
    "5. Select 1 of the most frequent job postings and print the resulting data frame."
   ]
  },
  {
   "cell_type": "code",
   "execution_count": 139,
   "id": "5972da70",
   "metadata": {},
   "outputs": [
    {
     "data": {
      "text/html": [
       "<div>\n",
       "<style scoped>\n",
       "    .dataframe tbody tr th:only-of-type {\n",
       "        vertical-align: middle;\n",
       "    }\n",
       "\n",
       "    .dataframe tbody tr th {\n",
       "        vertical-align: top;\n",
       "    }\n",
       "\n",
       "    .dataframe thead th {\n",
       "        text-align: right;\n",
       "    }\n",
       "</style>\n",
       "<table border=\"1\" class=\"dataframe\">\n",
       "  <thead>\n",
       "    <tr style=\"text-align: right;\">\n",
       "      <th></th>\n",
       "      <th>search</th>\n",
       "      <th>location</th>\n",
       "      <th>page_number</th>\n",
       "      <th>job_link</th>\n",
       "      <th>jid</th>\n",
       "    </tr>\n",
       "  </thead>\n",
       "  <tbody>\n",
       "    <tr>\n",
       "      <th>396</th>\n",
       "      <td>ai_ml_engineer</td>\n",
       "      <td>United_States</td>\n",
       "      <td>21</td>\n",
       "      <td>/c/Cast-and-Crew-LLC/Job/Director,-Software-En...</td>\n",
       "      <td>29c3eb1678e94634</td>\n",
       "    </tr>\n",
       "    <tr>\n",
       "      <th>965</th>\n",
       "      <td>ai_ml_engineer</td>\n",
       "      <td>United_States</td>\n",
       "      <td>50</td>\n",
       "      <td>/c/Castandcrew/Job/Director,-Software-Engineer...</td>\n",
       "      <td>29c3eb1678e94634</td>\n",
       "    </tr>\n",
       "    <tr>\n",
       "      <th>8468</th>\n",
       "      <td>MLOps_Engineer</td>\n",
       "      <td>United_States</td>\n",
       "      <td>31</td>\n",
       "      <td>/c/Cast-and-Crew-LLC/Job/Director,-Software-En...</td>\n",
       "      <td>29c3eb1678e94634</td>\n",
       "    </tr>\n",
       "    <tr>\n",
       "      <th>8830</th>\n",
       "      <td>MLOps_Engineer</td>\n",
       "      <td>United_States</td>\n",
       "      <td>50</td>\n",
       "      <td>/c/Castandcrew/Job/Director,-Software-Engineer...</td>\n",
       "      <td>29c3eb1678e94634</td>\n",
       "    </tr>\n",
       "    <tr>\n",
       "      <th>9644</th>\n",
       "      <td>nlp_engineer</td>\n",
       "      <td>United_States</td>\n",
       "      <td>42</td>\n",
       "      <td>/c/Cast-and-Crew-LLC/Job/Director,-Software-En...</td>\n",
       "      <td>29c3eb1678e94634</td>\n",
       "    </tr>\n",
       "  </tbody>\n",
       "</table>\n",
       "</div>"
      ],
      "text/plain": [
       "              search       location  page_number  \\\n",
       "396   ai_ml_engineer  United_States           21   \n",
       "965   ai_ml_engineer  United_States           50   \n",
       "8468  MLOps_Engineer  United_States           31   \n",
       "8830  MLOps_Engineer  United_States           50   \n",
       "9644    nlp_engineer  United_States           42   \n",
       "\n",
       "                                               job_link               jid  \n",
       "396   /c/Cast-and-Crew-LLC/Job/Director,-Software-En...  29c3eb1678e94634  \n",
       "965   /c/Castandcrew/Job/Director,-Software-Engineer...  29c3eb1678e94634  \n",
       "8468  /c/Cast-and-Crew-LLC/Job/Director,-Software-En...  29c3eb1678e94634  \n",
       "8830  /c/Castandcrew/Job/Director,-Software-Engineer...  29c3eb1678e94634  \n",
       "9644  /c/Cast-and-Crew-LLC/Job/Director,-Software-En...  29c3eb1678e94634  "
      ]
     },
     "execution_count": 139,
     "metadata": {},
     "output_type": "execute_result"
    }
   ],
   "source": [
    "job_counts = df.groupby('jid')['job_link'].count()\n",
    "max_value=job_counts.idxmax()\n",
    "max_value_df = df[df['jid'] == max_value]\n",
    "max_value_df.head()"
   ]
  },
  {
   "cell_type": "markdown",
   "id": "991f1064",
   "metadata": {},
   "source": [
    "6. Why is it duplicate?  Are there different job links for the same jid?  Can we assume jid is unique?  Do some investigating and ascertain if jid is actually the way to uniquely describe a job posting.  Use a print statement to display your answer."
   ]
  },
  {
   "cell_type": "code",
   "execution_count": 140,
   "id": "0d3c1a16",
   "metadata": {},
   "outputs": [
    {
     "name": "stdout",
     "output_type": "stream",
     "text": [
      "Certain jobs like ai_ml_engineer and MLOps_Engineer appeared in multiple searches, \n",
      "maybe beacuse the job descriptions are overlaping and there are NO different job links for the same jobid\n",
      ". With that the JobID can be assumed as unique and i assume that this can be used to describe a certain job posting. \n"
     ]
    }
   ],
   "source": [
    "print('Certain jobs like ai_ml_engineer and MLOps_Engineer appeared in multiple searches, \\nmaybe beacuse the job descriptions are overlaping and there are NO different job links for the same jobid\\n. With that the JobID can be assumed as unique and i assume that this can be used to describe a certain job posting. ')"
   ]
  },
  {
   "cell_type": "markdown",
   "id": "d3609dda",
   "metadata": {},
   "source": [
    "7. Create a new table by jid.  Select only the search queries and the jid and then groupby the jid and aggregate the search terms into a list.  `.head()` the results"
   ]
  },
  {
   "cell_type": "code",
   "execution_count": 141,
   "id": "c31e871d",
   "metadata": {},
   "outputs": [
    {
     "data": {
      "text/plain": [
       "jid\n",
       "0009bc980684a44b                  [Data_Architect]\n",
       "000dcc0b4db30c58                  [ai_ml_engineer]\n",
       "001045e90d901843                [Business_Analyst]\n",
       "0012b8f4bdf93d97                  [MLOps_Engineer]\n",
       "0018a96cd42d3175                [Business_Analyst]\n",
       "001b8c4e8912a539                [Business_Analyst]\n",
       "001d943235f51b4d                  [Data_Scientist]\n",
       "001e15b8bef68c42                  [Data_Scientist]\n",
       "003b0abc4d2d2502       [Machine_Learning_Engineer]\n",
       "003e567d3fefdc6e    [ai_ml_engineer, nlp_engineer]\n",
       "Name: search, dtype: object"
      ]
     },
     "execution_count": 141,
     "metadata": {},
     "output_type": "execute_result"
    }
   ],
   "source": [
    "table=df[['jid','search']].groupby('jid')\n",
    "search_terms_aggregate=table['search'].agg(list)\n",
    "search_terms_aggregate.head(10)"
   ]
  },
  {
   "cell_type": "markdown",
   "id": "be5ed11f",
   "metadata": {},
   "source": [
    "8. Load your job assignments.  The job assignments are in job_assignments_sampled.json.  Your files are under your email."
   ]
  },
  {
   "cell_type": "code",
   "execution_count": 142,
   "id": "5b5c1bbe",
   "metadata": {},
   "outputs": [
    {
     "name": "stdout",
     "output_type": "stream",
     "text": [
      "True\n"
     ]
    }
   ],
   "source": [
    "with open(\"job_assignments_sampled.json\", \"r\", encoding=\"utf-8\") as l:\n",
    "    job_assignments_sampled_file = json.load(l)\n",
    "\n",
    "jobs = job_assignments_sampled_file.get(\"mudzimtb@clarkson.edu\", {}).get(\"jobs\", [])\n",
    "\n",
    "if jobs:\n",
    "    print(\"True\")\n",
    "else:\n",
    "    print(\"False (no jobs found)\")\n"
   ]
  },
  {
   "cell_type": "markdown",
   "id": "960e1e74",
   "metadata": {},
   "source": [
    "9. Loop through these job files and get the job description, company description and salary"
   ]
  },
  {
   "cell_type": "code",
   "execution_count": 143,
   "id": "0f292061",
   "metadata": {},
   "outputs": [],
   "source": [
    "job_list=[]\n",
    "for job in jobs:\n",
    "    with open(f\"data/jobs/{job}\", \"r\", encoding=\"utf-8\") as m:\n",
    "        each_job = json.load(m)\n",
    "        job_description = each_job.get(\"jobDetails\", {}).get(\"Description\", {})\n",
    "        company_description=each_job.get(\"companyWidgetProp\",{}).get(\"Description\",{}).get(\"CompanyDescription\",{})\n",
    "        salary=each_job.get(\"jobDetails\",{}).get(\"Salary\",{})\n",
    "    job_list_dictionary={\"job_description\": job_description,\"company_description\": company_description,\"salary\": salary,\"jid\":job.rstrip(\".json\")}\n",
    "    job_list.append(job_list_dictionary)\n",
    "\n",
    "job_list_df=pd.DataFrame(job_list)\n"
   ]
  },
  {
   "attachments": {
    "image.png": {
     "image/png": "[encoded data removed]"
    }
   },
   "cell_type": "markdown",
   "id": "0b5c230c",
   "metadata": {},
   "source": [
    "10. Create a pandas data frame from the results, sort descending by the description length.  .head() the results.  The head of my data frame is below:\n",
    "\n",
    "![image.png](attachment:image.png)"
   ]
  },
  {
   "cell_type": "code",
   "execution_count": 144,
   "id": "fb154544",
   "metadata": {},
   "outputs": [
    {
     "data": {
      "text/html": [
       "<div>\n",
       "<style scoped>\n",
       "    .dataframe tbody tr th:only-of-type {\n",
       "        vertical-align: middle;\n",
       "    }\n",
       "\n",
       "    .dataframe tbody tr th {\n",
       "        vertical-align: top;\n",
       "    }\n",
       "\n",
       "    .dataframe thead th {\n",
       "        text-align: right;\n",
       "    }\n",
       "</style>\n",
       "<table border=\"1\" class=\"dataframe\">\n",
       "  <thead>\n",
       "    <tr style=\"text-align: right;\">\n",
       "      <th></th>\n",
       "      <th>job_description</th>\n",
       "      <th>company_description</th>\n",
       "      <th>salary</th>\n",
       "      <th>jid</th>\n",
       "      <th>desc_length</th>\n",
       "    </tr>\n",
       "  </thead>\n",
       "  <tbody>\n",
       "    <tr>\n",
       "      <th>2547</th>\n",
       "      <td>&lt;p&gt;&lt;b&gt;Work Location:&lt;/b&gt;&lt;/p&gt;Mount Laurel, New ...</td>\n",
       "      <td></td>\n",
       "      <td>$68,640 to $112,320 Yearly</td>\n",
       "      <td>65b91ccbba4447c7</td>\n",
       "      <td>15000</td>\n",
       "    </tr>\n",
       "    <tr>\n",
       "      <th>845</th>\n",
       "      <td>&lt;p&gt;DUTIES ANNUAL SALARY: $121,813 to $178,085 ...</td>\n",
       "      <td></td>\n",
       "      <td>$121,813 to $178,085 Yearly</td>\n",
       "      <td>1ca8b1c8c73522b8</td>\n",
       "      <td>15000</td>\n",
       "    </tr>\n",
       "    <tr>\n",
       "      <th>1046</th>\n",
       "      <td>&lt;div&gt;&lt;div&gt;&lt;p&gt;&lt;b&gt;Title:&lt;/b&gt;  Managing Consultan...</td>\n",
       "      <td></td>\n",
       "      <td>$72 to $93 Hourly</td>\n",
       "      <td>cbcca19ab70f64f8</td>\n",
       "      <td>15000</td>\n",
       "    </tr>\n",
       "    <tr>\n",
       "      <th>2092</th>\n",
       "      <td>&lt;p&gt;Company Overview With 80,000 customers acro...</td>\n",
       "      <td></td>\n",
       "      <td>$247,000 Yearly</td>\n",
       "      <td>4573a7a57e1cabd9</td>\n",
       "      <td>15000</td>\n",
       "    </tr>\n",
       "    <tr>\n",
       "      <th>2197</th>\n",
       "      <td>&lt;div&gt; &lt;div&gt;  Job Details &lt;/div&gt; &lt;div&gt;  &lt;div&gt;  ...</td>\n",
       "      <td></td>\n",
       "      <td>$90,000 to $95,000 Yearly</td>\n",
       "      <td>00ba1033c6623680</td>\n",
       "      <td>15000</td>\n",
       "    </tr>\n",
       "  </tbody>\n",
       "</table>\n",
       "</div>"
      ],
      "text/plain": [
       "                                        job_description company_description  \\\n",
       "2547  <p><b>Work Location:</b></p>Mount Laurel, New ...                       \n",
       "845   <p>DUTIES ANNUAL SALARY: $121,813 to $178,085 ...                       \n",
       "1046  <div><div><p><b>Title:</b>  Managing Consultan...                       \n",
       "2092  <p>Company Overview With 80,000 customers acro...                       \n",
       "2197  <div> <div>  Job Details </div> <div>  <div>  ...                       \n",
       "\n",
       "                           salary               jid  desc_length  \n",
       "2547   $68,640 to $112,320 Yearly  65b91ccbba4447c7        15000  \n",
       "845   $121,813 to $178,085 Yearly  1ca8b1c8c73522b8        15000  \n",
       "1046            $72 to $93 Hourly  cbcca19ab70f64f8        15000  \n",
       "2092              $247,000 Yearly  4573a7a57e1cabd9        15000  \n",
       "2197    $90,000 to $95,000 Yearly  00ba1033c6623680        15000  "
      ]
     },
     "execution_count": 144,
     "metadata": {},
     "output_type": "execute_result"
    }
   ],
   "source": [
    "job_list_df['desc_length'] = job_list_df['job_description'].astype(str).str.len()\n",
    "job_list_df = job_list_df.sort_values(by='desc_length', ascending=False)\n",
    "job_list_df.head()\n"
   ]
  },
  {
   "cell_type": "markdown",
   "id": "ff753691",
   "metadata": {},
   "source": [
    "11. Merge your job data with your data frame from question 7.  Use a left join"
   ]
  },
  {
   "cell_type": "code",
   "execution_count": 145,
   "id": "d3670e7f",
   "metadata": {},
   "outputs": [
    {
     "data": {
      "text/html": [
       "<div>\n",
       "<style scoped>\n",
       "    .dataframe tbody tr th:only-of-type {\n",
       "        vertical-align: middle;\n",
       "    }\n",
       "\n",
       "    .dataframe tbody tr th {\n",
       "        vertical-align: top;\n",
       "    }\n",
       "\n",
       "    .dataframe thead th {\n",
       "        text-align: right;\n",
       "    }\n",
       "</style>\n",
       "<table border=\"1\" class=\"dataframe\">\n",
       "  <thead>\n",
       "    <tr style=\"text-align: right;\">\n",
       "      <th></th>\n",
       "      <th>job_description</th>\n",
       "      <th>company_description</th>\n",
       "      <th>salary</th>\n",
       "      <th>jid</th>\n",
       "      <th>desc_length</th>\n",
       "      <th>search</th>\n",
       "    </tr>\n",
       "  </thead>\n",
       "  <tbody>\n",
       "    <tr>\n",
       "      <th>0</th>\n",
       "      <td>&lt;p&gt;&lt;b&gt;Work Location:&lt;/b&gt;&lt;/p&gt;Mount Laurel, New ...</td>\n",
       "      <td></td>\n",
       "      <td>$68,640 to $112,320 Yearly</td>\n",
       "      <td>65b91ccbba4447c7</td>\n",
       "      <td>15000</td>\n",
       "      <td>[Business_Analyst, Business_Analyst]</td>\n",
       "    </tr>\n",
       "    <tr>\n",
       "      <th>1</th>\n",
       "      <td>&lt;p&gt;DUTIES ANNUAL SALARY: $121,813 to $178,085 ...</td>\n",
       "      <td></td>\n",
       "      <td>$121,813 to $178,085 Yearly</td>\n",
       "      <td>1ca8b1c8c73522b8</td>\n",
       "      <td>15000</td>\n",
       "      <td>[Data_Architect, Data_Architect]</td>\n",
       "    </tr>\n",
       "    <tr>\n",
       "      <th>2</th>\n",
       "      <td>&lt;div&gt;&lt;div&gt;&lt;p&gt;&lt;b&gt;Title:&lt;/b&gt;  Managing Consultan...</td>\n",
       "      <td></td>\n",
       "      <td>$72 to $93 Hourly</td>\n",
       "      <td>cbcca19ab70f64f8</td>\n",
       "      <td>15000</td>\n",
       "      <td>[Data_Architect]</td>\n",
       "    </tr>\n",
       "    <tr>\n",
       "      <th>3</th>\n",
       "      <td>&lt;p&gt;Company Overview With 80,000 customers acro...</td>\n",
       "      <td></td>\n",
       "      <td>$247,000 Yearly</td>\n",
       "      <td>4573a7a57e1cabd9</td>\n",
       "      <td>15000</td>\n",
       "      <td>[ai_ml_engineer]</td>\n",
       "    </tr>\n",
       "    <tr>\n",
       "      <th>4</th>\n",
       "      <td>&lt;div&gt; &lt;div&gt;  Job Details &lt;/div&gt; &lt;div&gt;  &lt;div&gt;  ...</td>\n",
       "      <td></td>\n",
       "      <td>$90,000 to $95,000 Yearly</td>\n",
       "      <td>00ba1033c6623680</td>\n",
       "      <td>15000</td>\n",
       "      <td>[Computer_Vision_Engineer]</td>\n",
       "    </tr>\n",
       "  </tbody>\n",
       "</table>\n",
       "</div>"
      ],
      "text/plain": [
       "                                     job_description company_description  \\\n",
       "0  <p><b>Work Location:</b></p>Mount Laurel, New ...                       \n",
       "1  <p>DUTIES ANNUAL SALARY: $121,813 to $178,085 ...                       \n",
       "2  <div><div><p><b>Title:</b>  Managing Consultan...                       \n",
       "3  <p>Company Overview With 80,000 customers acro...                       \n",
       "4  <div> <div>  Job Details </div> <div>  <div>  ...                       \n",
       "\n",
       "                        salary               jid  desc_length  \\\n",
       "0   $68,640 to $112,320 Yearly  65b91ccbba4447c7        15000   \n",
       "1  $121,813 to $178,085 Yearly  1ca8b1c8c73522b8        15000   \n",
       "2            $72 to $93 Hourly  cbcca19ab70f64f8        15000   \n",
       "3              $247,000 Yearly  4573a7a57e1cabd9        15000   \n",
       "4    $90,000 to $95,000 Yearly  00ba1033c6623680        15000   \n",
       "\n",
       "                                 search  \n",
       "0  [Business_Analyst, Business_Analyst]  \n",
       "1      [Data_Architect, Data_Architect]  \n",
       "2                      [Data_Architect]  \n",
       "3                      [ai_ml_engineer]  \n",
       "4            [Computer_Vision_Engineer]  "
      ]
     },
     "execution_count": 145,
     "metadata": {},
     "output_type": "execute_result"
    }
   ],
   "source": [
    "merged=pd.merge(job_list_df,search_terms_aggregate,on=\"jid\", how=\"left\")\n",
    "merged.head()"
   ]
  },
  {
   "cell_type": "markdown",
   "id": "2483f3fc",
   "metadata": {},
   "source": [
    "12. Are there any jobs without a search query value?  Display the number of rows where the search is null"
   ]
  },
  {
   "cell_type": "code",
   "execution_count": 146,
   "id": "b36c0e53",
   "metadata": {},
   "outputs": [
    {
     "name": "stdout",
     "output_type": "stream",
     "text": [
      "116\n"
     ]
    }
   ],
   "source": [
    "print(merged[\"search\"].isna().sum())\n"
   ]
  },
  {
   "cell_type": "markdown",
   "id": "8de3bff2",
   "metadata": {},
   "source": [
    "13. Acronyms add complexity to reading a document because they require you to understand what the acronym stands for.  Create a regex to capture all sequences of 3-4 capital letters separated by word boundaries and apply that to the text.  Add those acronyms as a column called 'acronyms'.  .head() your data frame."
   ]
  },
  {
   "cell_type": "code",
   "execution_count": 147,
   "id": "16bf12e3",
   "metadata": {},
   "outputs": [
    {
     "data": {
      "text/html": [
       "<div>\n",
       "<style scoped>\n",
       "    .dataframe tbody tr th:only-of-type {\n",
       "        vertical-align: middle;\n",
       "    }\n",
       "\n",
       "    .dataframe tbody tr th {\n",
       "        vertical-align: top;\n",
       "    }\n",
       "\n",
       "    .dataframe thead th {\n",
       "        text-align: right;\n",
       "    }\n",
       "</style>\n",
       "<table border=\"1\" class=\"dataframe\">\n",
       "  <thead>\n",
       "    <tr style=\"text-align: right;\">\n",
       "      <th></th>\n",
       "      <th>job_description</th>\n",
       "      <th>company_description</th>\n",
       "      <th>salary</th>\n",
       "      <th>jid</th>\n",
       "      <th>desc_length</th>\n",
       "      <th>search</th>\n",
       "      <th>acronyms</th>\n",
       "    </tr>\n",
       "  </thead>\n",
       "  <tbody>\n",
       "    <tr>\n",
       "      <th>0</th>\n",
       "      <td>&lt;p&gt;&lt;b&gt;Work Location:&lt;/b&gt;&lt;/p&gt;Mount Laurel, New ...</td>\n",
       "      <td></td>\n",
       "      <td>$68,640 to $112,320 Yearly</td>\n",
       "      <td>65b91ccbba4447c7</td>\n",
       "      <td>15000</td>\n",
       "      <td>[Business_Analyst, Business_Analyst]</td>\n",
       "      <td>[USD, TSYS, WBS, RFI, RFP, ADA, PTO, PTO, PTO]</td>\n",
       "    </tr>\n",
       "    <tr>\n",
       "      <th>1</th>\n",
       "      <td>&lt;p&gt;DUTIES ANNUAL SALARY: $121,813 to $178,085 ...</td>\n",
       "      <td></td>\n",
       "      <td>$121,813 to $178,085 Yearly</td>\n",
       "      <td>1ca8b1c8c73522b8</td>\n",
       "      <td>15000</td>\n",
       "      <td>[Data_Architect, Data_Architect]</td>\n",
       "      <td>[SQL, AND, ONE, THE, SQL, SQL, DBA, OCP, IBM, ...</td>\n",
       "    </tr>\n",
       "    <tr>\n",
       "      <th>2</th>\n",
       "      <td>&lt;div&gt;&lt;div&gt;&lt;p&gt;&lt;b&gt;Title:&lt;/b&gt;  Managing Consultan...</td>\n",
       "      <td></td>\n",
       "      <td>$72 to $93 Hourly</td>\n",
       "      <td>cbcca19ab70f64f8</td>\n",
       "      <td>15000</td>\n",
       "      <td>[Data_Architect]</td>\n",
       "      <td>[FLSA, AWS, EHR, PMP, CSM, PMI, ACP, EMR, SQL,...</td>\n",
       "    </tr>\n",
       "    <tr>\n",
       "      <th>3</th>\n",
       "      <td>&lt;p&gt;Company Overview With 80,000 customers acro...</td>\n",
       "      <td></td>\n",
       "      <td>$247,000 Yearly</td>\n",
       "      <td>4573a7a57e1cabd9</td>\n",
       "      <td>15000</td>\n",
       "      <td>[ai_ml_engineer]</td>\n",
       "      <td>[UKG, UKG, UKG, UKG, RAG, AWS, UKG, UKG, UKG, ...</td>\n",
       "    </tr>\n",
       "    <tr>\n",
       "      <th>4</th>\n",
       "      <td>&lt;div&gt; &lt;div&gt;  Job Details &lt;/div&gt; &lt;div&gt;  &lt;div&gt;  ...</td>\n",
       "      <td></td>\n",
       "      <td>$90,000 to $95,000 Yearly</td>\n",
       "      <td>00ba1033c6623680</td>\n",
       "      <td>15000</td>\n",
       "      <td>[Computer_Vision_Engineer]</td>\n",
       "      <td>[LLC, CRM, NET, SQL]</td>\n",
       "    </tr>\n",
       "  </tbody>\n",
       "</table>\n",
       "</div>"
      ],
      "text/plain": [
       "                                     job_description company_description  \\\n",
       "0  <p><b>Work Location:</b></p>Mount Laurel, New ...                       \n",
       "1  <p>DUTIES ANNUAL SALARY: $121,813 to $178,085 ...                       \n",
       "2  <div><div><p><b>Title:</b>  Managing Consultan...                       \n",
       "3  <p>Company Overview With 80,000 customers acro...                       \n",
       "4  <div> <div>  Job Details </div> <div>  <div>  ...                       \n",
       "\n",
       "                        salary               jid  desc_length  \\\n",
       "0   $68,640 to $112,320 Yearly  65b91ccbba4447c7        15000   \n",
       "1  $121,813 to $178,085 Yearly  1ca8b1c8c73522b8        15000   \n",
       "2            $72 to $93 Hourly  cbcca19ab70f64f8        15000   \n",
       "3              $247,000 Yearly  4573a7a57e1cabd9        15000   \n",
       "4    $90,000 to $95,000 Yearly  00ba1033c6623680        15000   \n",
       "\n",
       "                                 search  \\\n",
       "0  [Business_Analyst, Business_Analyst]   \n",
       "1      [Data_Architect, Data_Architect]   \n",
       "2                      [Data_Architect]   \n",
       "3                      [ai_ml_engineer]   \n",
       "4            [Computer_Vision_Engineer]   \n",
       "\n",
       "                                            acronyms  \n",
       "0     [USD, TSYS, WBS, RFI, RFP, ADA, PTO, PTO, PTO]  \n",
       "1  [SQL, AND, ONE, THE, SQL, SQL, DBA, OCP, IBM, ...  \n",
       "2  [FLSA, AWS, EHR, PMP, CSM, PMI, ACP, EMR, SQL,...  \n",
       "3  [UKG, UKG, UKG, UKG, RAG, AWS, UKG, UKG, UKG, ...  \n",
       "4                               [LLC, CRM, NET, SQL]  "
      ]
     },
     "execution_count": 147,
     "metadata": {},
     "output_type": "execute_result"
    }
   ],
   "source": [
    "merged[\"acronyms\"] = merged[\"job_description\"].str.findall(r'\\b[A-Z]{3,4}\\b')\n",
    "merged.head(5)"
   ]
  },
  {
   "cell_type": "markdown",
   "id": "27af90bf",
   "metadata": {},
   "source": [
    "14. Count and display the top 10 most common acronyms.  Do these acronyms make sense?  What type of skills do you see in your top 10 acronyms?"
   ]
  },
  {
   "cell_type": "code",
   "execution_count": 148,
   "id": "7ea59841",
   "metadata": {},
   "outputs": [
    {
     "data": {
      "text/plain": [
       "acronyms\n",
       "SQL    2104\n",
       "AWS    1784\n",
       "ETL     811\n",
       "NLP     729\n",
       "GCP     544\n",
       "LLM     540\n",
       "PTO     393\n",
       "EEO     347\n",
       "API     331\n",
       "RAG     296\n",
       "Name: count, dtype: int64"
      ]
     },
     "execution_count": 148,
     "metadata": {},
     "output_type": "execute_result"
    }
   ],
   "source": [
    "exploded_acronyms = merged[\"acronyms\"].explode()\n",
    "top_10_acronyms = exploded_acronyms.value_counts().head(10)\n",
    "top_10_acronyms"
   ]
  },
  {
   "cell_type": "code",
   "execution_count": 149,
   "id": "c1554af1",
   "metadata": {},
   "outputs": [
    {
     "name": "stdout",
     "output_type": "stream",
     "text": [
      "Most common Acronym referenced: SQL\n",
      " and they kinda make sense especially in the context of job postings\n",
      " and there are \n",
      " techinical data skills like SQL, ETL, API \n",
      " Cloud Skills like AWS, GCP\n",
      " AI/ML Skills like NLP, LLM, RAG and Non-technical Acronyms like PTO, EEO.\n"
     ]
    }
   ],
   "source": [
    "print(f'Most common Acronym referenced: {top_10_acronyms.index[0]}')\n",
    "print(' and they kinda make sense especially in the context of job postings\\n and there are \\n techinical data skills like SQL, ETL, API \\n Cloud Skills like AWS, GCP\\n AI/ML Skills like NLP, LLM, RAG and Non-technical Acronyms like PTO, EEO.')"
   ]
  },
  {
   "cell_type": "markdown",
   "id": "284c22ce",
   "metadata": {},
   "source": [
    "15. \n",
    "\n",
    "Develop a regex to capture any dates that may appear in the documents.\n",
    "\n",
    "Create at least 4 regexes\n",
    "\n",
    "- To capture dates in the format January 31, 2024.  Should capture with and without a day.  So January 31, 2024 and January 2024\n",
    "- To capture dates in the format Jan 31, 2024.  Should capture with and without a day.  So Jan 31, 2024 and Jan 2024. Some month abbreviations have a period after the abbreviation, some don't\n",
    "- To capture dates like 10/10/2025 or 10.10.2025\n",
    "- To capture dates like 2025-08-09\n",
    "\n",
    "For each regex, create three capture groups.  One for the month, one for the day, and one for the year.\n",
    "There may be more, but these should cover the basics"
   ]
  },
  {
   "cell_type": "code",
   "execution_count": 150,
   "id": "9593dcd3",
   "metadata": {},
   "outputs": [],
   "source": [
    "\n",
    "\n",
    "# 1) \"January 31, 2024\" or \"January 2024\"\n",
    "rx_full = re.compile(\n",
    "    r\"\\b(?P<month>January|February|March|April|May|June|July|August|September|October|November|December)\"\n",
    "    r\"(?:\\s+(?P<day>0?[1-9]|[12][0-9]|3[01])(?:st|nd|rd|th)?\\s*,?)?\"\n",
    "    r\"\\s+(?P<year>\\d{4})\\b\",\n",
    "    re.IGNORECASE\n",
    ")\n",
    "\n",
    "# 2) \"Jan 31, 2024\" or \"Jan. 2024\" \n",
    "rx_abbr = re.compile(\n",
    "    r\"\\b(?P<month>Jan\\.?|Feb\\.?|Mar\\.?|Apr\\.?|May|Jun\\.?|Jul\\.?|Aug\\.?|Sep\\.?|Sept\\.?|Oct\\.?|Nov\\.?|Dec\\.?)\"\n",
    "    r\"(?:\\s+(?P<day>0?[1-9]|[12][0-9]|3[01])(?:st|nd|rd|th)?\\s*,?)?\"\n",
    "    r\"\\s+(?P<year>\\d{4})\\b\",\n",
    "    re.IGNORECASE\n",
    ")\n",
    "\n",
    "# 3) \"10/10/2025\" or \"10.10.2025\"  (MM/DD/YYYY)\n",
    "rx_numeric = re.compile(\n",
    "    r\"\\b(?P<month>0?[1-9]|1[0-2])[./](?P<day>0?[1-9]|[12][0-9]|3[01])[./](?P<year>\\d{4})\\b\"\n",
    ")\n",
    "\n",
    "# 4) \"2025-08-09\" (YYYY-MM-DD)\n",
    "rx_iso = re.compile(\n",
    "    r\"\\b(?P<year>\\d{4})-(?P<month>0[1-9]|1[0-2])-(?P<day>0[1-9]|[12][0-9]|3[01])\\b\"\n",
    ")\n"
   ]
  },
  {
   "cell_type": "code",
   "execution_count": 151,
   "id": "30d0584a",
   "metadata": {},
   "outputs": [
    {
     "name": "stdout",
     "output_type": "stream",
     "text": [
      "FULL   January 31 2024\n",
      "FULL   January 1 2024\n",
      "ABBR   Jan. 5 2025\n",
      "ABBR   Jan 1 2025\n",
      "NUM    10 10 2025\n",
      "NUM    10 10 2025\n",
      "ISO    08 09 2025\n"
     ]
    }
   ],
   "source": [
    "text = \"January 31, 2024; January 2024; Jan. 5, 2025; Jan 2025; 10/10/2025; 10.10.2025; 2025-08-09\"\n",
    "for m in rx_full.finditer(text):   print(\"FULL  \", m.group(\"month\"), m.group(\"day\") or \"1\", m.group(\"year\"))\n",
    "for m in rx_abbr.finditer(text):   print(\"ABBR  \", m.group(\"month\"), m.group(\"day\") or \"1\", m.group(\"year\"))\n",
    "for m in rx_numeric.finditer(text):print(\"NUM   \", m.group(\"month\"), m.group(\"day\"), m.group(\"year\"))\n",
    "for m in rx_iso.finditer(text):    print(\"ISO   \", m.group(\"month\"), m.group(\"day\"), m.group(\"year\"))\n"
   ]
  },
  {
   "cell_type": "markdown",
   "id": "3c4ab804",
   "metadata": {},
   "source": [
    "16. Apply the date regexes to your description and store the results in three columns (`date_matches_01`, `date_matches_02`, etc.).  `.head()` the results"
   ]
  },
  {
   "cell_type": "code",
   "execution_count": 152,
   "id": "27631599",
   "metadata": {},
   "outputs": [
    {
     "data": {
      "text/html": [
       "<div>\n",
       "<style scoped>\n",
       "    .dataframe tbody tr th:only-of-type {\n",
       "        vertical-align: middle;\n",
       "    }\n",
       "\n",
       "    .dataframe tbody tr th {\n",
       "        vertical-align: top;\n",
       "    }\n",
       "\n",
       "    .dataframe thead th {\n",
       "        text-align: right;\n",
       "    }\n",
       "</style>\n",
       "<table border=\"1\" class=\"dataframe\">\n",
       "  <thead>\n",
       "    <tr style=\"text-align: right;\">\n",
       "      <th></th>\n",
       "      <th>job_description</th>\n",
       "      <th>date_matches_01</th>\n",
       "      <th>date_matches_02</th>\n",
       "      <th>date_matches_03</th>\n",
       "      <th>date_matches_04</th>\n",
       "    </tr>\n",
       "  </thead>\n",
       "  <tbody>\n",
       "    <tr>\n",
       "      <th>0</th>\n",
       "      <td>&lt;p&gt;&lt;b&gt;Work Location:&lt;/b&gt;&lt;/p&gt;Mount Laurel, New ...</td>\n",
       "      <td></td>\n",
       "      <td></td>\n",
       "      <td></td>\n",
       "      <td></td>\n",
       "    </tr>\n",
       "    <tr>\n",
       "      <th>1</th>\n",
       "      <td>&lt;p&gt;DUTIES ANNUAL SALARY: $121,813 to $178,085 ...</td>\n",
       "      <td>September 5, 2025; September 18, 2025; SEPTEMB...</td>\n",
       "      <td></td>\n",
       "      <td></td>\n",
       "      <td></td>\n",
       "    </tr>\n",
       "    <tr>\n",
       "      <th>2</th>\n",
       "      <td>&lt;div&gt;&lt;div&gt;&lt;p&gt;&lt;b&gt;Title:&lt;/b&gt;  Managing Consultan...</td>\n",
       "      <td></td>\n",
       "      <td></td>\n",
       "      <td></td>\n",
       "      <td></td>\n",
       "    </tr>\n",
       "    <tr>\n",
       "      <th>3</th>\n",
       "      <td>&lt;p&gt;Company Overview With 80,000 customers acro...</td>\n",
       "      <td></td>\n",
       "      <td></td>\n",
       "      <td></td>\n",
       "      <td></td>\n",
       "    </tr>\n",
       "    <tr>\n",
       "      <th>4</th>\n",
       "      <td>&lt;div&gt; &lt;div&gt;  Job Details &lt;/div&gt; &lt;div&gt;  &lt;div&gt;  ...</td>\n",
       "      <td></td>\n",
       "      <td></td>\n",
       "      <td></td>\n",
       "      <td></td>\n",
       "    </tr>\n",
       "    <tr>\n",
       "      <th>5</th>\n",
       "      <td>&lt;div&gt;&lt;div class=\"ps&lt;i&gt;box-group psc&lt;/i&gt;layout ...</td>\n",
       "      <td></td>\n",
       "      <td></td>\n",
       "      <td></td>\n",
       "      <td></td>\n",
       "    </tr>\n",
       "    <tr>\n",
       "      <th>6</th>\n",
       "      <td>&lt;div&gt;&lt;strong&gt;Salary:&lt;/strong&gt; $86,912.00 - $11...</td>\n",
       "      <td></td>\n",
       "      <td></td>\n",
       "      <td>08/11/2025; 8/25/2025</td>\n",
       "      <td></td>\n",
       "    </tr>\n",
       "    <tr>\n",
       "      <th>7</th>\n",
       "      <td>&lt;p&gt;Position/Program Information EXAM NUMBER: P...</td>\n",
       "      <td>July 17, 2025</td>\n",
       "      <td></td>\n",
       "      <td></td>\n",
       "      <td></td>\n",
       "    </tr>\n",
       "    <tr>\n",
       "      <th>8</th>\n",
       "      <td>&lt;strong&gt; &lt;/strong&gt;&lt;strong&gt;POSITION SUMMARY&lt;/st...</td>\n",
       "      <td></td>\n",
       "      <td></td>\n",
       "      <td></td>\n",
       "      <td></td>\n",
       "    </tr>\n",
       "    <tr>\n",
       "      <th>9</th>\n",
       "      <td>&lt;div&gt;&lt;b&gt; Job Details &lt;/b&gt;&lt;br&gt;&lt;br&gt;&lt;strong&gt;Worki...</td>\n",
       "      <td>July 1, 2009; August 1, 2012</td>\n",
       "      <td></td>\n",
       "      <td>08/12/2025; 08/21/2025</td>\n",
       "      <td></td>\n",
       "    </tr>\n",
       "    <tr>\n",
       "      <th>10</th>\n",
       "      <td>Job Description:\\n\\nAbout the Northwest Portla...</td>\n",
       "      <td></td>\n",
       "      <td></td>\n",
       "      <td></td>\n",
       "      <td></td>\n",
       "    </tr>\n",
       "    <tr>\n",
       "      <th>11</th>\n",
       "      <td>&lt;div&gt;     Quality Tech - Level 2    &lt;div class...</td>\n",
       "      <td></td>\n",
       "      <td></td>\n",
       "      <td></td>\n",
       "      <td></td>\n",
       "    </tr>\n",
       "    <tr>\n",
       "      <th>12</th>\n",
       "      <td>&lt;div&gt;   &lt;div&gt;   &lt;p&gt;&lt;/p&gt;   Company Description ...</td>\n",
       "      <td></td>\n",
       "      <td></td>\n",
       "      <td></td>\n",
       "      <td></td>\n",
       "    </tr>\n",
       "    <tr>\n",
       "      <th>13</th>\n",
       "      <td>&lt;p&gt;Major Duties and Responsibilities The Data ...</td>\n",
       "      <td></td>\n",
       "      <td></td>\n",
       "      <td></td>\n",
       "      <td></td>\n",
       "    </tr>\n",
       "    <tr>\n",
       "      <th>14</th>\n",
       "      <td>&lt;div&gt;&lt;p&gt;At STERIS, we help our Customers creat...</td>\n",
       "      <td></td>\n",
       "      <td></td>\n",
       "      <td></td>\n",
       "      <td></td>\n",
       "    </tr>\n",
       "    <tr>\n",
       "      <th>15</th>\n",
       "      <td>&lt;div&gt;&lt;p&gt;Do you have a passion for artificial i...</td>\n",
       "      <td></td>\n",
       "      <td></td>\n",
       "      <td></td>\n",
       "      <td></td>\n",
       "    </tr>\n",
       "    <tr>\n",
       "      <th>16</th>\n",
       "      <td>&lt;div&gt;&lt;strong&gt;Salary :&lt;/strong&gt; $111,394.61 - $...</td>\n",
       "      <td>January 1, 2023; January 1, 2023; January 1, 2023</td>\n",
       "      <td></td>\n",
       "      <td>07/24/2025</td>\n",
       "      <td></td>\n",
       "    </tr>\n",
       "    <tr>\n",
       "      <th>17</th>\n",
       "      <td>&lt;div&gt;&lt;strong&gt;About Us:&lt;/strong&gt;&lt;br&gt;&lt;br&gt;Fieldgu...</td>\n",
       "      <td></td>\n",
       "      <td></td>\n",
       "      <td></td>\n",
       "      <td></td>\n",
       "    </tr>\n",
       "    <tr>\n",
       "      <th>18</th>\n",
       "      <td>&lt;strong&gt;About The Role&lt;/strong&gt;&lt;br&gt;&lt;br&gt;&lt;p&gt;&lt;str...</td>\n",
       "      <td></td>\n",
       "      <td></td>\n",
       "      <td></td>\n",
       "      <td></td>\n",
       "    </tr>\n",
       "    <tr>\n",
       "      <th>19</th>\n",
       "      <td>&lt;div&gt;&lt;p&gt;At EY, we're all in to shape your futu...</td>\n",
       "      <td></td>\n",
       "      <td></td>\n",
       "      <td></td>\n",
       "      <td></td>\n",
       "    </tr>\n",
       "  </tbody>\n",
       "</table>\n",
       "</div>"
      ],
      "text/plain": [
       "                                      job_description  \\\n",
       "0   <p><b>Work Location:</b></p>Mount Laurel, New ...   \n",
       "1   <p>DUTIES ANNUAL SALARY: $121,813 to $178,085 ...   \n",
       "2   <div><div><p><b>Title:</b>  Managing Consultan...   \n",
       "3   <p>Company Overview With 80,000 customers acro...   \n",
       "4   <div> <div>  Job Details </div> <div>  <div>  ...   \n",
       "5   <div><div class=\"ps<i>box-group psc</i>layout ...   \n",
       "6   <div><strong>Salary:</strong> $86,912.00 - $11...   \n",
       "7   <p>Position/Program Information EXAM NUMBER: P...   \n",
       "8   <strong> </strong><strong>POSITION SUMMARY</st...   \n",
       "9   <div><b> Job Details </b><br><br><strong>Worki...   \n",
       "10  Job Description:\\n\\nAbout the Northwest Portla...   \n",
       "11  <div>     Quality Tech - Level 2    <div class...   \n",
       "12  <div>   <div>   <p></p>   Company Description ...   \n",
       "13  <p>Major Duties and Responsibilities The Data ...   \n",
       "14  <div><p>At STERIS, we help our Customers creat...   \n",
       "15  <div><p>Do you have a passion for artificial i...   \n",
       "16  <div><strong>Salary :</strong> $111,394.61 - $...   \n",
       "17  <div><strong>About Us:</strong><br><br>Fieldgu...   \n",
       "18  <strong>About The Role</strong><br><br><p><str...   \n",
       "19  <div><p>At EY, we're all in to shape your futu...   \n",
       "\n",
       "                                      date_matches_01 date_matches_02  \\\n",
       "0                                                                       \n",
       "1   September 5, 2025; September 18, 2025; SEPTEMB...                   \n",
       "2                                                                       \n",
       "3                                                                       \n",
       "4                                                                       \n",
       "5                                                                       \n",
       "6                                                                       \n",
       "7                                       July 17, 2025                   \n",
       "8                                                                       \n",
       "9                        July 1, 2009; August 1, 2012                   \n",
       "10                                                                      \n",
       "11                                                                      \n",
       "12                                                                      \n",
       "13                                                                      \n",
       "14                                                                      \n",
       "15                                                                      \n",
       "16  January 1, 2023; January 1, 2023; January 1, 2023                   \n",
       "17                                                                      \n",
       "18                                                                      \n",
       "19                                                                      \n",
       "\n",
       "           date_matches_03 date_matches_04  \n",
       "0                                           \n",
       "1                                           \n",
       "2                                           \n",
       "3                                           \n",
       "4                                           \n",
       "5                                           \n",
       "6    08/11/2025; 8/25/2025                  \n",
       "7                                           \n",
       "8                                           \n",
       "9   08/12/2025; 08/21/2025                  \n",
       "10                                          \n",
       "11                                          \n",
       "12                                          \n",
       "13                                          \n",
       "14                                          \n",
       "15                                          \n",
       "16              07/24/2025                  \n",
       "17                                          \n",
       "18                                          \n",
       "19                                          "
      ]
     },
     "execution_count": 152,
     "metadata": {},
     "output_type": "execute_result"
    }
   ],
   "source": [
    " \n",
    "def extract_matches(text, regex):\n",
    "    if not isinstance(text, str):\n",
    "        return \"\"\n",
    "    return \"; \".join(m.group(0) for m in regex.finditer(text))\n",
    "\n",
    "merged[\"date_matches_01\"] = merged[\"job_description\"].apply(lambda x: extract_matches(x, rx_full))\n",
    "merged[\"date_matches_02\"] = merged[\"job_description\"].apply(lambda x: extract_matches(x, rx_abbr))\n",
    "merged[\"date_matches_03\"] = merged[\"job_description\"].apply(lambda x: extract_matches(x, rx_numeric))\n",
    "merged[\"date_matches_04\"] = merged[\"job_description\"].apply(lambda x: extract_matches(x, rx_iso))\n",
    "\n",
    "merged[[\"job_description\",\"date_matches_01\",\"date_matches_02\",\"date_matches_03\",\"date_matches_04\"]].head(20)\n"
   ]
  },
  {
   "cell_type": "markdown",
   "id": "98c8f6ac",
   "metadata": {},
   "source": [
    "17. Check all descriptions for the year 2025 and see which jobs have 2025 in the description but have no dates found.  .head() the results."
   ]
  },
  {
   "cell_type": "code",
   "execution_count": 153,
   "id": "20814967",
   "metadata": {},
   "outputs": [
    {
     "data": {
      "text/html": [
       "<div>\n",
       "<style scoped>\n",
       "    .dataframe tbody tr th:only-of-type {\n",
       "        vertical-align: middle;\n",
       "    }\n",
       "\n",
       "    .dataframe tbody tr th {\n",
       "        vertical-align: top;\n",
       "    }\n",
       "\n",
       "    .dataframe thead th {\n",
       "        text-align: right;\n",
       "    }\n",
       "</style>\n",
       "<table border=\"1\" class=\"dataframe\">\n",
       "  <thead>\n",
       "    <tr style=\"text-align: right;\">\n",
       "      <th></th>\n",
       "      <th>job_description</th>\n",
       "      <th>date_matches_01</th>\n",
       "      <th>date_matches_02</th>\n",
       "      <th>date_matches_03</th>\n",
       "      <th>date_matches_04</th>\n",
       "    </tr>\n",
       "  </thead>\n",
       "  <tbody>\n",
       "    <tr>\n",
       "      <th>10</th>\n",
       "      <td>Job Description:\\n\\nAbout the Northwest Portla...</td>\n",
       "      <td></td>\n",
       "      <td></td>\n",
       "      <td></td>\n",
       "      <td></td>\n",
       "    </tr>\n",
       "    <tr>\n",
       "      <th>60</th>\n",
       "      <td>&lt;div&gt; &lt;div&gt;  &lt;div&gt;   &lt;b&gt;ABOUT ARTERA&lt;/b&gt;  &lt;/di...</td>\n",
       "      <td></td>\n",
       "      <td></td>\n",
       "      <td></td>\n",
       "      <td></td>\n",
       "    </tr>\n",
       "    <tr>\n",
       "      <th>97</th>\n",
       "      <td>&lt;div&gt;&lt;p&gt;&lt;b&gt;Discover. A brighter future.&lt;/b&gt;&lt;/p...</td>\n",
       "      <td></td>\n",
       "      <td></td>\n",
       "      <td></td>\n",
       "      <td></td>\n",
       "    </tr>\n",
       "    <tr>\n",
       "      <th>180</th>\n",
       "      <td>&lt;p&gt;Description&lt;/p&gt;&lt;p&gt;&lt;strong&gt;Join our winning ...</td>\n",
       "      <td></td>\n",
       "      <td></td>\n",
       "      <td></td>\n",
       "      <td></td>\n",
       "    </tr>\n",
       "    <tr>\n",
       "      <th>188</th>\n",
       "      <td>&lt;h3&gt;Job Description&lt;/h3&gt;&lt;div&gt;&lt;b&gt;Lead, Build, a...</td>\n",
       "      <td></td>\n",
       "      <td></td>\n",
       "      <td></td>\n",
       "      <td></td>\n",
       "    </tr>\n",
       "  </tbody>\n",
       "</table>\n",
       "</div>"
      ],
      "text/plain": [
       "                                       job_description date_matches_01  \\\n",
       "10   Job Description:\\n\\nAbout the Northwest Portla...                   \n",
       "60   <div> <div>  <div>   <b>ABOUT ARTERA</b>  </di...                   \n",
       "97   <div><p><b>Discover. A brighter future.</b></p...                   \n",
       "180  <p>Description</p><p><strong>Join our winning ...                   \n",
       "188  <h3>Job Description</h3><div><b>Lead, Build, a...                   \n",
       "\n",
       "    date_matches_02 date_matches_03 date_matches_04  \n",
       "10                                                   \n",
       "60                                                   \n",
       "97                                                   \n",
       "180                                                  \n",
       "188                                                  "
      ]
     },
     "execution_count": 153,
     "metadata": {},
     "output_type": "execute_result"
    }
   ],
   "source": [
    "\n",
    "mask_year = merged[\"job_description\"].str.contains(r\"2025\", na=False)\n",
    "\n",
    "mask_no_dates = (\n",
    "    (merged[\"date_matches_01\"] == \"\") &\n",
    "    (merged[\"date_matches_02\"] == \"\") &\n",
    "    (merged[\"date_matches_03\"] == \"\") &\n",
    "    (merged[\"date_matches_04\"] == \"\")\n",
    ")\n",
    "\n",
    "merged_2025_no_dates = merged[mask_year & mask_no_dates]\n",
    "\n",
    "merged_2025_no_dates[[\"job_description\",\"date_matches_01\", \"date_matches_02\", \"date_matches_03\",\"date_matches_04\"]].head()\n"
   ]
  },
  {
   "cell_type": "markdown",
   "id": "4d512c45",
   "metadata": {},
   "source": [
    "18. Inspect some of these job descriptions and give an example of a date that you missed and explain why your regexes above missed that date"
   ]
  },
  {
   "cell_type": "code",
   "execution_count": 154,
   "id": "ae7c1399",
   "metadata": {},
   "outputs": [
    {
     "name": "stdout",
     "output_type": "stream",
     "text": [
      "<div><p><b>Discover. A brighter future.</b></p><p>With us, you’ll do meaningful work from Day 1. Our collaborative culture is built on three core behaviors: We Play to Win, We Get Better Every Day &amp; We Succeed Together. And we mean it — we want you to grow and make a difference at one of the world's leading digital banking and payments companies. We value what makes you unique so that you have an opportunity to shine. </p><p></p><p>Come build your future, while being the reason millions of people find a brighter financial future with Discover.</p><p></p><b>Job Description:</b><p><b>What You’ll Do</b></p><p></p><p>Responsibility of the role is to design the Cybersecurity engineering roadmap, and deliver highly-complex secure systems, cyber applications, technical projects and regulatory and risk requirements. Drive Cybersecurity engineering solutions, framework, roadmap, program optimization, process engineering, risk remediation, and mitigation of operational risk in a high velocity culture by introducing technology, requirements, deliverables, gaps and systems design. Analyze competitive. Actively manages and escalates risk and customer-impacting issues within the day-to-day role to management ​</p><p><br><b>How You’ll Do It</b></p><p>Acts as the principal advisor to upper management in Cybersecurity matters. Ensures security improvement designs are evaluated, validated, and implemented as required. Performs cyber platform incident triage, to include determining scope, urgency, and potential impact; identifying  Certifies that protection and detection capabilities are acquired or developed, and maintained using the Cybersecurity engineering approach and are consistent with organization-level cybersecurity architecture and service agreements.</p><p>Explores and assesses the latest technology trends, disruptions and security/IT service business models to ensure Business Technology maintains, and improves, organization cyber competitive edge.</p><p>Works closely with management to define and promote the strategic direction of the team. Provides strong leadership and direction to team members. Provides subject matter expertise across all Cybersecurity technologies. Creates and maintains Cybersecurity technology roadmap. Ensures compliance to audit, regulatory and legal requirements. Makes recommendations that enable expeditious remediation.</p><p>Builds and maintains effective relationships with peers and internal business partners, and external.</p><p><br><b>Qualifications You’ll Need</b><br><b>The Basics</b></p><p></p><ul><li><p>Bachelors degree in Computer Science or related</p></li><li><p>6+ years of experience in Information Security, Application Security, Security Engineering or related.</p></li></ul><p></p><p><b>Internal applicants only:</b> technical proficiency rating of <b><i>Proficient</i></b> on the Cybersecurity Dreyfus engineering scale.</p><p></p><p><b>Physical and Cognitive Requirements</b><br>The physical requirements described here are representative of those that must be met by an employee to successfully perform the essential functions of this position. Reasonable accommodations may be made to enable a qualified individual with disabilities to perform the essential functions of the position as required by federal, state, and local laws:</p><p></p><p>Primarily remain in a stationary position.</p><p>Occasionally move about the work environment to complete the major.</p><p>Ability to transport physical objects up to 10 pounds</p><p>Primarily performed indoors in an office</p><p>Ability to operate office equipment such as but not limited to computer, telephone,</p><p>Ability to communicate verbally.; Ability to communicate in written form.</p><p>Travel up to 10% of the time.</p><p></p><p></p><p><b>Bonus Points If You Have</b></p><ul><li><p>5-7 years of experience in an engineering or security-related role</p></li><li><p>Exceptional organizational abilities and attention to detail</p></li><li><p>Demonstrated ability to lead small-to-medium scale team initiatives</p></li><li><p>Demonstrated ability to design and deploy elegant solutions and tooling with minimal oversight</p></li><li><p>Advanced level of knowledge with big data platforms (Splunk, Hadoop, Elastic stack, etc.)</p></li><li><p>Advanced level of knowledge with automating workloads (Jenkins, Ansible, Chef, Terraform, </p></li><li><p>etc.)</p></li><li><p>Advanced level of knowledge with the maintenance and deployment of workloads on Cloud </p></li><li><p>Infrastructure (AWS, GCP, Azure, etc.)</p></li><li><p>Mastery of programming languages and concepts (Python, Javascript, SPL, etc.)</p></li><li><p>Excellent verbal and written communication skills</p></li><li><p>Demonstrated ability to coach/mentor junior team members from a technical perspective</p></li><li><p>Previous experience creating and/or supporting tools and platforms for an operations-centric team </p></li><li><p>Experience in leading large-scale projects</p></li><li><p>Demonstrated knowledge of modeling concepts including AI/ML and predictive analytics</p></li><li><p>Hands-on experience with common security technologies (SIEM, IDS, Firewall, WAF, etc.)</p></li><li><p>Knowledge of data science, data visualization, mathematics, and/or statistics</p></li><li><p>Proficient knowledge of common security threats, attack vectors, vulnerabilities and exploits</p></li><li><p>Proficient knowledge of common operating systems, protocols and basic endpoint security </p></li><li><p>principles</p></li><li><p>Regular participation and contribution to industry-related groups and events</p></li><li><p>Demonstrated ability to engage confidently with upper management</p></li><li><p>Preferred Qualifications (combination of Required and Bonus)</p></li><li><p>Exceptional organizational abilities and attention to detail</p></li><li><p>Demonstrated ability to lead small-to-medium scale team initiatives</p></li><li><p>Mastery of programming languages and concepts (Python, Javascript, SPL, etc.)</p></li><li><p>Demonstrated ability to coach/mentor junior team members from a technical perspective</p></li><li><p>Advanced level of knowledge with big data platforms (Splunk, Hadoop, Elastic stack, etc.)</p></li><li><p>Demonstrated ability to design and deploy elegant solutions and tooling with minimal oversight</p></li><li><p>Advanced level of knowledge with automating workloads (Jenkins, Ansible, Chef, Terraform, etc.)</p></li><li><p>Advanced level of knowledge with the maintenance and deployment of workloads on Cloud Infrastructure (AWS, GCP, Azure, etc.)</p></li></ul><p></p><p>External applicants will be required to perform a technical interview.<br><br><i><b>Discover will not sponsor or transfer employment work visas for this position. Applicants must be currently authorized to work in the United States on a full-time basis.</b></i></p><p></p><p>#LI-GN</p><p></p><p><b>Application Deadline:</b></p>The application window for this position is anticipated to close on Aug-09-2025. We encourage you to apply as soon as possible. The posting may be available past this date, but it is not guaranteed.<p></p><p><b>Compensation:</b></p>The base pay for this position generally ranges between $107,000.00 to $180,200.00. Additional incentives may be provided as part of a market competitive total compensation package. Factors, such as but not limited to, geographical location, relevant experience, education, and skill level may impact the pay for this position.<p></p><p><b><b><b>Benefits:</b></b></b></p><p>We also offer a range of benefits and programs based on eligibility. These benefits include:</p><ul><li><p>Paid Parental Leave</p></li><li><p>Paid Time Off</p></li><li><p>401(k) Plan</p></li><li><p>Medical, Dental, Vision, &amp; Health Savings Account</p></li><li><p>Short and Long Term Disability, Life, and Accidental Death &amp; Dismemberment insurances</p></li><li><p>Recognition Program</p></li><li><p>Education Assistance</p></li><li><p>Commuter Benefits</p></li><li><p>Family Support Programs</p></li><li><p>Employee Stock Purchase Plan</p></li></ul><p></p><p>Learn more at mydiscoverbenefits.com.</p><p></p><p>What are you waiting for? Apply today!</p><p></p><p>All Discover employees place our customers at the very center of our work. To deliver on our promises to our customers, each of us contribute every day to a culture that values compliance and risk management.</p><p></p><p>Discover, a division of Capital One, N.A., is an equal opportunity employer and does not discriminate on the basis of race, color, religion, sex, sexual orientation, gender identity, national origin, age, disability, protected veteran status, or other legally protected status. (Know Your Rights)</p><p></p><p>Discover complies with federal, state, and local laws applicable to qualified individuals with disabilities and is committed to providing reasonable accommodations. If you require a reasonable accommodation to search for a position, to complete an application, and/or to participate in an interview, please email HireAccommodation@discover.com. Any information you provide regarding your accommodation needs will be kept confidential and will only be used to determine and provide necessary accommodation.</p><p></p><p>At Discover, we are committed to creating an inclusive and equitable workplace through our Fair Chance Hiring practices. Fair Chance Hiring means that we base our hiring decisions on an applicant’s qualifications rather than their criminal record. All our positions are subject to Section 19 of the Federal Deposit Insurance Act. Our applicants go through a background check, and we follow all applicable local laws, including the Los Angeles County Fair Chance Hiring Ordinance (LA County Fair Chance).</p><p></p><p>Positions marked as remote eligible are limited to remote locations within the country in which the position is based.</p><p></p><p>Applicants must be 18 or older at the time of hire.</p></div>\n"
     ]
    }
   ],
   "source": [
    "print(merged_2025_no_dates[\"job_description\"].iloc[2])"
   ]
  },
  {
   "cell_type": "code",
   "execution_count": 155,
   "id": "9c63446d",
   "metadata": {},
   "outputs": [
    {
     "name": "stdout",
     "output_type": "stream",
     "text": [
      "After inspecting the job description printed above, it has a date Aug-09-2025 \n",
      "full month (rx_full) and abbreviated month (rx_abbr) regexes won’t match something like Aug-09-2025 because:\n",
      "\n",
      "1. They assume Month [day] Year order.\n",
      "\n",
      "2. They don’t support month–day–year with dashes (MDY).\n",
      "\n",
      "That pattern is essentially an abbreviated month name + dash + day + dash + year,\n",
      " below is an alternative way of capturing the date with the same format like Aug-09-2025 .\n"
     ]
    }
   ],
   "source": [
    "print('After inspecting the job description printed above, it has a date Aug-09-2025 ')\n",
    "print(\"full month (rx_full) and abbreviated month (rx_abbr) regexes won’t match something like Aug-09-2025 because:\\n\")\n",
    "print(\"1. They assume Month [day] Year order.\\n\")\n",
    "print(\"2. They don’t support month–day–year with dashes (MDY).\\n\")\n",
    "print(\"That pattern is essentially an abbreviated month name + dash + day + dash + year,\\n below is an alternative way of capturing the date with the same format like Aug-09-2025 .\")\n"
   ]
  },
  {
   "cell_type": "markdown",
   "id": "6f7cfc65",
   "metadata": {},
   "source": [
    "# 3) \"Aug-09-2025\" or \"August-09-2025\"\n",
    "rx_month_day_year_dash = re.compile(\n",
    "    r\"\\b(?P<month>Jan(?:uary)?|Feb(?:ruary)?|Mar(?:ch)?|Apr(?:il)?|May|Jun(?:e)?|Jul(?:y)?|\"\n",
    "    r\"Aug(?:ust)?|Sep(?:t\\.?|tember)?|Oct(?:ober)?|Nov(?:ember)?|Dec(?:ember)?)\"\n",
    "    r\"[-](?P<day>0?[1-9]|[12][0-9]|3[01])[-](?P<year>\\d{4})\\b\",\n",
    "    re.IGNORECASE\n",
    ")\n"
   ]
  },
  {
   "cell_type": "markdown",
   "id": "b9fb5ba3",
   "metadata": {},
   "source": [
    "19. Convert these dates using pd.to_datetime and put them in one column.  Each row will represent a list of dates.  Insert a 1 for all dates without a day.  You will have to specify the correct format using https://www.w3schools.com/python/gloss_python_date_format_codes.asp.  .head() the results"
   ]
  },
  {
   "cell_type": "code",
   "execution_count": 156,
   "id": "83059062",
   "metadata": {},
   "outputs": [
    {
     "data": {
      "text/html": [
       "<div>\n",
       "<style scoped>\n",
       "    .dataframe tbody tr th:only-of-type {\n",
       "        vertical-align: middle;\n",
       "    }\n",
       "\n",
       "    .dataframe tbody tr th {\n",
       "        vertical-align: top;\n",
       "    }\n",
       "\n",
       "    .dataframe thead th {\n",
       "        text-align: right;\n",
       "    }\n",
       "</style>\n",
       "<table border=\"1\" class=\"dataframe\">\n",
       "  <thead>\n",
       "    <tr style=\"text-align: right;\">\n",
       "      <th></th>\n",
       "      <th>job_description</th>\n",
       "      <th>date_matches_01</th>\n",
       "      <th>date_matches_02</th>\n",
       "      <th>date_matches_03</th>\n",
       "      <th>date_matches_04</th>\n",
       "      <th>parsed_dates</th>\n",
       "    </tr>\n",
       "  </thead>\n",
       "  <tbody>\n",
       "    <tr>\n",
       "      <th>0</th>\n",
       "      <td>&lt;p&gt;&lt;b&gt;Work Location:&lt;/b&gt;&lt;/p&gt;Mount Laurel, New ...</td>\n",
       "      <td></td>\n",
       "      <td></td>\n",
       "      <td></td>\n",
       "      <td></td>\n",
       "      <td>[]</td>\n",
       "    </tr>\n",
       "    <tr>\n",
       "      <th>1</th>\n",
       "      <td>&lt;p&gt;DUTIES ANNUAL SALARY: $121,813 to $178,085 ...</td>\n",
       "      <td>September 5, 2025; September 18, 2025; SEPTEMB...</td>\n",
       "      <td></td>\n",
       "      <td></td>\n",
       "      <td></td>\n",
       "      <td>[2025-09-05, 2025-09-18, 2025-09-05, 2025-09-1...</td>\n",
       "    </tr>\n",
       "    <tr>\n",
       "      <th>2</th>\n",
       "      <td>&lt;div&gt;&lt;div&gt;&lt;p&gt;&lt;b&gt;Title:&lt;/b&gt;  Managing Consultan...</td>\n",
       "      <td></td>\n",
       "      <td></td>\n",
       "      <td></td>\n",
       "      <td></td>\n",
       "      <td>[]</td>\n",
       "    </tr>\n",
       "    <tr>\n",
       "      <th>3</th>\n",
       "      <td>&lt;p&gt;Company Overview With 80,000 customers acro...</td>\n",
       "      <td></td>\n",
       "      <td></td>\n",
       "      <td></td>\n",
       "      <td></td>\n",
       "      <td>[]</td>\n",
       "    </tr>\n",
       "    <tr>\n",
       "      <th>4</th>\n",
       "      <td>&lt;div&gt; &lt;div&gt;  Job Details &lt;/div&gt; &lt;div&gt;  &lt;div&gt;  ...</td>\n",
       "      <td></td>\n",
       "      <td></td>\n",
       "      <td></td>\n",
       "      <td></td>\n",
       "      <td>[]</td>\n",
       "    </tr>\n",
       "  </tbody>\n",
       "</table>\n",
       "</div>"
      ],
      "text/plain": [
       "                                     job_description  \\\n",
       "0  <p><b>Work Location:</b></p>Mount Laurel, New ...   \n",
       "1  <p>DUTIES ANNUAL SALARY: $121,813 to $178,085 ...   \n",
       "2  <div><div><p><b>Title:</b>  Managing Consultan...   \n",
       "3  <p>Company Overview With 80,000 customers acro...   \n",
       "4  <div> <div>  Job Details </div> <div>  <div>  ...   \n",
       "\n",
       "                                     date_matches_01 date_matches_02  \\\n",
       "0                                                                      \n",
       "1  September 5, 2025; September 18, 2025; SEPTEMB...                   \n",
       "2                                                                      \n",
       "3                                                                      \n",
       "4                                                                      \n",
       "\n",
       "  date_matches_03 date_matches_04  \\\n",
       "0                                   \n",
       "1                                   \n",
       "2                                   \n",
       "3                                   \n",
       "4                                   \n",
       "\n",
       "                                        parsed_dates  \n",
       "0                                                 []  \n",
       "1  [2025-09-05, 2025-09-18, 2025-09-05, 2025-09-1...  \n",
       "2                                                 []  \n",
       "3                                                 []  \n",
       "4                                                 []  "
      ]
     },
     "execution_count": 156,
     "metadata": {},
     "output_type": "execute_result"
    }
   ],
   "source": [
    "\n",
    "date_cols = [\"date_matches_01\", \"date_matches_02\", \"date_matches_03\", \"date_matches_04\"]\n",
    "for c in date_cols:\n",
    "    if c not in merged.columns:\n",
    "        merged[c] = \"\"\n",
    "merged[\"all_dates_raw\"] = merged[date_cols].fillna(\"\").agg(\"; \".join, axis=1)\n",
    "\n",
    "\n",
    "def parse_one(s: str):\n",
    "    s = (s or \"\").strip()\n",
    "    if not s:\n",
    "        return None\n",
    "   \n",
    "    s = re.sub(r'(\\d)(st|nd|rd|th)\\b', r'\\1', s)\n",
    "    s = re.sub(r'\\b(Jan|Feb|Mar|Apr|Jun|Jul|Aug|Sep|Sept|Oct|Nov|Dec)\\.', r'\\1', s)\n",
    "    s = re.sub(r'\\bSept\\b', 'Sep', s)\n",
    "\n",
    "    if re.fullmatch(r'[A-Za-z]{3,}\\s+\\d{4}', s):\n",
    "        for fmt in (\"%d %B %Y\", \"%d %b %Y\"): \n",
    "            dt = pd.to_datetime(\"1 \" + s, format=fmt, errors=\"coerce\")\n",
    "            if pd.notna(dt):\n",
    "                return dt\n",
    "        return None\n",
    "\n",
    "    for fmt in (\"%B %d, %Y\",   # January 31, 2024\n",
    "                \"%b %d, %Y\",   # Jan 31, 2024\n",
    "                \"%m/%d/%Y\",    # 10/10/2025\n",
    "                \"%m.%d.%Y\",    # 10.10.2025\n",
    "                \"%Y-%m-%d\"):   # 2025-08-09\n",
    "        dt = pd.to_datetime(s, format=fmt, errors=\"coerce\")\n",
    "        if pd.notna(dt):\n",
    "            return dt\n",
    "    return None\n",
    "\n",
    "merged[\"parsed_dates\"] = merged[\"all_dates_raw\"].apply(\n",
    "    lambda txt: [dt for dt in (parse_one(x) for x in txt.split(\";\")) if dt is not None]\n",
    ")\n",
    "\n",
    "merged[\"parsed_dates\"] = merged[\"parsed_dates\"].apply(\n",
    "    lambda lst: [dt.strftime(\"%Y-%m-%d\") for dt in lst] if lst else []\n",
    ")\n",
    "\n",
    "merged[[\"job_description\",\n",
    "        \"date_matches_01\", \"date_matches_02\", \"date_matches_03\", \"date_matches_04\",\n",
    "        \"parsed_dates\"]].head()\n"
   ]
  },
  {
   "cell_type": "markdown",
   "id": "4b47252a",
   "metadata": {},
   "source": [
    "20. Display the most common non-null date"
   ]
  },
  {
   "cell_type": "code",
   "execution_count": 157,
   "id": "017eec00",
   "metadata": {},
   "outputs": [
    {
     "name": "stdout",
     "output_type": "stream",
     "text": [
      "Most common non-null date: 2025-08-25 with 8 occurrences\n"
     ]
    }
   ],
   "source": [
    "from collections import Counter\n",
    "\n",
    "all_dates = [d for sublist in merged[\"parsed_dates\"] for d in sublist]\n",
    "\n",
    "date_counts = Counter(all_dates)\n",
    "\n",
    "most_common_date, freq = date_counts.most_common(1)[0]\n",
    "\n",
    "print(\"Most common non-null date:\", most_common_date, \"with\", freq, \"occurrences\")\n"
   ]
  },
  {
   "cell_type": "markdown",
   "id": "ee4b9b5a",
   "metadata": {},
   "source": [
    "21. Display a histogram of the non null dates"
   ]
  },
  {
   "cell_type": "code",
   "execution_count": 158,
   "id": "b54e742c",
   "metadata": {},
   "outputs": [
    {
     "data": {
      "image/png": "[encoded data removed]",
      "text/plain": [
       "<Figure size 900x400 with 1 Axes>"
      ]
     },
     "metadata": {},
     "output_type": "display_data"
    }
   ],
   "source": [
    "\n",
    "df= merged[\"parsed_dates\"].explode()\n",
    "df= pd.to_datetime(df, format=\"%Y-%m-%d\", errors=\"coerce\").dropna()\n",
    "\n",
    "lo = df.quantile(0.10)   \n",
    "hi = df.quantile(0.99)   \n",
    "df_clip = df[(df >= lo) & (df <= hi)]\n",
    "\n",
    "fig, ax = plt.subplots(figsize=(9, 4))\n",
    "ax.hist(s_clip, bins=\"auto\", edgecolor=\"black\")\n",
    "ax.set_title(\"Non-null Dates\")\n",
    "ax.set_xlabel(\"Date\")\n",
    "ax.set_ylabel(\"Count\")\n",
    "ax.set_xlim(df_clip.min(), df_clip.max())\n",
    "ax.margins(x=0)\n",
    "\n",
    "plt.tight_layout()\n",
    "plt.show()\n"
   ]
  },
  {
   "cell_type": "markdown",
   "id": "4e7aa292",
   "metadata": {},
   "source": [
    "22. Write a regex to get all the urls in your description and print out the 5 most common urls\n",
    "\n",
    "Start by searching for https..  Include a capturing group to only extract the name of the website.\n",
    "\n",
    "- Look for both urls like https://www.google.com and without the www. like https://google.com\n",
    "- The name of the website extracted should end in one of the common domains like .com, .org, .gov, so your regular expression should be sure to exclude any additional path information"
   ]
  },
  {
   "cell_type": "code",
   "execution_count": 159,
   "id": "a99780a1",
   "metadata": {},
   "outputs": [
    {
     "name": "stdout",
     "output_type": "stream",
     "text": [
      "The 5 most common urls are: [('dol.gov', 12), ('linkedin.com', 11), ('capgemini.com', 9), ('okta.com', 6), ('facebook.com', 6)]\n"
     ]
    }
   ],
   "source": [
    "\n",
    "\n",
    "\n",
    "rx_site = re.compile(\n",
    "    r'https?://(?:www\\.)?(?P<site>[a-z0-9-]+(?:\\.[a-z0-9-]+)*\\.(?:com|org|net|gov|edu|io|co|us|uk|ca|de|ai|info))(?=[/?#]|$)',\n",
    "    re.IGNORECASE\n",
    ")\n",
    "\n",
    "sites = merged[\"job_description\"].astype(str).str.findall(rx_site).explode().dropna()\n",
    "\n",
    "top5 = Counter(sites).most_common(5)\n",
    "\n",
    "print(f'The 5 most common urls are: {top5}')\n"
   ]
  },
  {
   "cell_type": "markdown",
   "id": "be76ff67",
   "metadata": {},
   "source": [
    "23. Get Low and High Salary Range from the salary field.  Ignore hourly wages.  For those without a range (without the word to) use the single value as both the high and low range.  Print out the mean high and low salary ranges"
   ]
  },
  {
   "cell_type": "code",
   "execution_count": 160,
   "id": "4c5b31b1",
   "metadata": {},
   "outputs": [],
   "source": [
    "\n",
    "salary_series = merged[\"salary\"].astype(str)\n",
    "\n",
    "rx_salary = re.compile(r\"\\$?([\\d,]+)\")\n",
    "\n",
    "def parse_salary(s):\n",
    "    s = s.lower()\n",
    "    if \"hour\" in s: \n",
    "        return None, None\n",
    "    \n",
    "    nums = [int(x.replace(\",\", \"\")) for x in rx_salary.findall(s)]\n",
    "    \n",
    "    if \"to\" in s and len(nums) >= 2:  \n",
    "        return nums[0], nums[1]\n",
    "    elif nums:                       \n",
    "        return nums[0], nums[0]\n",
    "    else:\n",
    "        return None, None\n",
    "\n",
    "merged[[\"low_salary\", \"high_salary\"]] = salary_series.apply(parse_salary).apply(pd.Series)\n",
    "\n",
    "\n",
    "mean_low = merged[\"low_salary\"].mean()\n",
    "mean_high = merged[\"high_salary\"].mean()\n",
    "\n",
    "\n"
   ]
  },
  {
   "cell_type": "code",
   "execution_count": 161,
   "id": "6d2fb04c",
   "metadata": {},
   "outputs": [
    {
     "name": "stdout",
     "output_type": "stream",
     "text": [
      "Mean low salary: 114,228.15\n",
      "Mean high salary: 154,903.61\n"
     ]
    }
   ],
   "source": [
    "\n",
    "print(f\"Mean low salary: {mean_low:,.2f}\")\n",
    "print(f\"Mean high salary: {mean_high:,.2f}\")"
   ]
  },
  {
   "cell_type": "markdown",
   "id": "6bbe4b83",
   "metadata": {},
   "source": [
    "24. Are there any weird salaries?  Too high or too low?"
   ]
  },
  {
   "cell_type": "code",
   "execution_count": 166,
   "id": "48844d8b",
   "metadata": {},
   "outputs": [
    {
     "name": "stdout",
     "output_type": "stream",
     "text": [
      "=== Weird Low Salaries (< $20k) ===\n",
      "                                        job_description  \\\n",
      "24    <div><p>Would you like to influence water mana...   \n",
      "25    <div><p>Are you passionate about public servic...   \n",
      "33    <div><p>This is a 24-month limited term positi...   \n",
      "428   <p><strong>Salary Range: $9,852.82 - $13,278.1...   \n",
      "1231  <h3>Job Description</h3><div><div>SCDMV Inform...   \n",
      "1439  <div><p>Feast &amp; Fettle is seeking an<stron...   \n",
      "1453  <h3>Job Description</h3><div><strong>Location:...   \n",
      "1501  <div><p>At HopSkipDrive, our goal is to create...   \n",
      "1858  <div><p>ARCH-Minneapolis is looking for motiva...   \n",
      "2034  <div><b>About Centific</b><br><br>At Centific,...   \n",
      "\n",
      "                         salary  low_salary  high_salary  \n",
      "24    $7,556 to $10,221 Monthly      7556.0      10221.0  \n",
      "25     $8,715 to $9,899 Monthly      8715.0       9899.0  \n",
      "33     $4,469 to $6,922 Monthly      4469.0       6922.0  \n",
      "428   $9,853 to $13,278 Monthly      9853.0      13278.0  \n",
      "1231         $78 to $85 Monthly        78.0         85.0  \n",
      "1439              $1,000 Weekly      1000.0       1000.0  \n",
      "1453        $140 to $160 Yearly       140.0        160.0  \n",
      "1501                 $100 Daily       100.0        100.0  \n",
      "1858               $2,000 Daily      2000.0       2000.0  \n",
      "2034   $4,520 to $7,850 Monthly      4520.0       7850.0  \n",
      "\n",
      "=== Weird High Salaries (> $500k) ===\n",
      "                                        job_description  \\\n",
      "1053  <div><strong>About the Team</strong><br><br>Th...   \n",
      "\n",
      "                           salary  low_salary  high_salary  \n",
      "1053  $250,000 to $555,000 Yearly    250000.0     555000.0  \n"
     ]
    }
   ],
   "source": [
    "\n",
    "low_thresh = 20000\n",
    "high_thresh = 500000\n",
    "\n",
    "weird_low = merged[merged[\"low_salary\"].notna() & (merged[\"low_salary\"] < low_thresh)]\n",
    "\n",
    "weird_high = merged[merged[\"high_salary\"].notna() & (merged[\"high_salary\"] > high_thresh)]\n",
    "\n",
    "print(\"=== Weird Low Salaries (< $20k) ===\")\n",
    "print(weird_low[[\"job_description\", \"salary\", \"low_salary\", \"high_salary\"]].head(10))\n",
    "print()\n",
    "\n",
    "print(\"=== Weird High Salaries (> $500k) ===\")\n",
    "print(weird_high[[\"job_description\", \"salary\", \"low_salary\", \"high_salary\"]].head(10))\n"
   ]
  },
  {
   "cell_type": "code",
   "execution_count": 93,
   "id": "21892f5d",
   "metadata": {},
   "outputs": [
    {
     "name": "stdout",
     "output_type": "stream",
     "text": [
      "From the above inspections there are wierd low salary of $78–$85 Monthly and wierd high salary of $555,000\n"
     ]
    }
   ],
   "source": [
    "print('From the above inspections there are wierd low salary of $78–$85 Monthly and wierd high salary of $555,000')"
   ]
  },
  {
   "cell_type": "markdown",
   "id": "d98d0446",
   "metadata": {},
   "source": [
    "23. Display a histogram of the high salary range (filter out values less than $1,000,000)"
   ]
  },
  {
   "cell_type": "code",
   "execution_count": null,
   "id": "156ed42a",
   "metadata": {},
   "outputs": [
    {
     "data": {
      "image/png": "[encoded data removed]",
      "text/plain": [
       "<Figure size 900x500 with 1 Axes>"
      ]
     },
     "metadata": {},
     "output_type": "display_data"
    }
   ],
   "source": [
    "\n",
    "high_salaries = merged[\"high_salary\"].dropna()\n",
    "high_salaries = high_salaries[high_salaries < 1_000_000]\n",
    "\n",
    "plt.figure(figsize=(9,5))\n",
    "plt.hist(high_salaries, bins=30, edgecolor=\"black\")\n",
    "plt.axvline(high_salaries.mean(), color=\"red\", linestyle=\"--\", label=f\"Mean: ${high_salaries.mean():,.2f}\")\n",
    "plt.xlabel(\"High Salary Range ($)\")\n",
    "plt.ylabel(\"Count\")\n",
    "plt.title(\"Histogram of High Salary Range (< $1M)\")\n",
    "plt.legend()\n",
    "plt.tight_layout()\n",
    "plt.show()\n"
   ]
  },
  {
   "cell_type": "markdown",
   "id": "597e1285",
   "metadata": {},
   "source": [
    "24. Display a histogram of the low salary range (filter out values less than $1,000,000)"
   ]
  },
  {
   "cell_type": "code",
   "execution_count": 101,
   "id": "e4eb0afe",
   "metadata": {},
   "outputs": [
    {
     "data": {
      "image/png": "[encoded data removed]",
      "text/plain": [
       "<Figure size 900x500 with 1 Axes>"
      ]
     },
     "metadata": {},
     "output_type": "display_data"
    }
   ],
   "source": [
    "\n",
    "low_salaries = merged[\"low_salary\"].dropna()\n",
    "low_salaries = low_salaries[low_salaries < 1_000_000]\n",
    "\n",
    "plt.figure(figsize=(9,5))\n",
    "plt.hist(low_salaries, bins=30, edgecolor=\"black\")\n",
    "plt.axvline(low_salaries.mean(), color=\"red\", linestyle=\"--\", label=f\"Mean: ${low_salaries.mean():,.2f}\")\n",
    "plt.xlabel(\"Low Salary Range ($)\")\n",
    "plt.ylabel(\"Count\")\n",
    "plt.title(\"Histogram of Low Salary Range (< $1M)\")\n",
    "plt.legend()\n",
    "plt.tight_layout()\n",
    "plt.show()\n"
   ]
  }
 ],
 "metadata": {
  "kernelspec": {
   "display_name": "Python 3",
   "language": "python",
   "name": "python3"
  },
  "language_info": {
   "codemirror_mode": {
    "name": "ipython",
    "version": 3
   },
   "file_extension": ".py",
   "mimetype": "text/x-python",
   "name": "python",
   "nbconvert_exporter": "python",
   "pygments_lexer": "ipython3",
   "version": "3.12.10"
  }
 },
 "nbformat": 4,
 "nbformat_minor": 5
}
