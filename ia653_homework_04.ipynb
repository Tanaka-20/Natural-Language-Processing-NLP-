{
 "cells": [
  {
   "cell_type": "markdown",
   "id": "4338eab0",
   "metadata": {},
   "source": [
    "# Homework 04: Word Vectors\n",
    "\n",
    "## Submission Instructions:\n",
    "1. Once the notebook is completed, **RESTART THE KERNEL AND RUN ALL CELLS**, save it and submit it. \n",
    "2. DO NOT submit the data from the assignment.\n",
    "3. Whenever we ask to .head(10) the results or print out a value, please use `print()` so for example `print(df.head(10))`. Print only the answers to the questions that have been asked.  Do not print the head of a dataset unless explicitly asked. \n",
    "4. Whenever displaying a graph use `plt.show()`\n",
    "5. For theoretical answers/short answers, use print() (e.g., print(\"your answer\")).\n",
    "6. Wherever we have code displayed to print out values, use that code as a template to print out your output.  For example, if we give you `print(f'Threshold for best accuracy: {}')` please use code in this style to print out your output."
   ]
  },
  {
   "cell_type": "code",
   "execution_count": 5,
   "id": "9916d567",
   "metadata": {},
   "outputs": [],
   "source": [
    "import pandas as pd\n",
    "import numpy as np\n",
    "import time\n",
    "import dill\n",
    "import nltk\n",
    "import json\n",
    "from pathlib import Path\n",
    "import re\n",
    "import seaborn as sns\n",
    "import matplotlib.pyplot as plt\n",
    "from bs4 import BeautifulSoup\n",
    "\n",
    "from sklearn.model_selection import train_test_split, cross_validate\n",
    "from sklearn.feature_extraction.text import CountVectorizer\n",
    "from sklearn import metrics\n",
    "from sklearn.pipeline import Pipeline\n",
    "from sklearn.preprocessing import FunctionTransformer\n",
    "\n",
    "# Ensure nltk stopwords and wordnet are downloaded if not already:\n",
    "#nltk.download('stopwords')\n",
    "#nltk.download('wordnet')\n",
    "#nltk.download('omw-1.4')\n",
    "#nltk.download('punkt_tab')\n",
    "\n",
    "from nltk.corpus import stopwords\n",
    "from collections import Counter\n",
    "from nltk.stem import WordNetLemmatizer\n",
    "from nltk.tokenize import word_tokenize\n",
    "from tokenizers.models import BPE\n",
    "from tokenizers.trainers import BpeTrainer\n",
    "from nltk.stem import PorterStemmer\n",
    "from tokenizers import Tokenizer, models, trainers\n",
    "from tokenizers.normalizers import NFD, Lowercase, StripAccents, Sequence\n",
    "from tokenizers.pre_tokenizers import Whitespace\n",
    "\n",
    "\n"
   ]
  },
  {
   "cell_type": "markdown",
   "id": "8987e9d0",
   "metadata": {},
   "source": [
    "### Question 1\n",
    "\n",
    "Load your JSON data (from Homework 02) into a pandas dataframe"
   ]
  },
  {
   "cell_type": "code",
   "execution_count": 21,
   "id": "777a25a3",
   "metadata": {},
   "outputs": [],
   "source": [
    "with open(\"data.json\", 'r') as file:\n",
    "        data = json.load(file)\n",
    "    "
   ]
  },
  {
   "cell_type": "code",
   "execution_count": 22,
   "id": "8d03e840",
   "metadata": {},
   "outputs": [],
   "source": [
    "df = pd.DataFrame(data)"
   ]
  },
  {
   "cell_type": "markdown",
   "id": "1bbf4a6e",
   "metadata": {},
   "source": [
    "### Question 2\n",
    "\n",
    "Text Cleaning: Implement a clean_text function for job descriptions that:\n",
    "- Removes the text from the HTML\n",
    "- Lowercases text\t\n",
    "- Removes punctuation and numbers\t\n",
    "- Tokenizes into words\t\n",
    "- Removes stopwords\n",
    "- Applies lemmatization\n",
    "- Returns the description as a list of strings (not 1 big string)"
   ]
  },
  {
   "cell_type": "code",
   "execution_count": 24,
   "id": "70fc3a47",
   "metadata": {},
   "outputs": [],
   "source": [
    "\n",
    "STOPWORDS = set(stopwords.words(\"english\"))\n",
    "LEMMATIZER = WordNetLemmatizer()\n",
    "\n",
    "def strip_html(text: str) -> str:\n",
    "\n",
    "    soup = BeautifulSoup(text, \"html.parser\")\n",
    "    for tag in soup([\"script\", \"style\"]):\n",
    "        tag.decompose()\n",
    "    return soup.get_text(separator=\" \")\n",
    "\n",
    "def clean_text(text: str) -> list[str]:\n",
    "\n",
    "    if not isinstance(text, str):\n",
    "        return []\n",
    "    text = strip_html(text)\n",
    "\n",
    "    text = text.lower()\n",
    "\n",
    "    text = re.sub(r\"[^a-z0-9\\s]\", \" \", text)\n",
    "\n",
    "\n",
    "    tokens = text.split()\n",
    "\n",
    "    tokens = [t for t in tokens if t not in STOPWORDS and len(t) > 2]\n",
    "\n",
    "\n",
    "    tokens = [LEMMATIZER.lemmatize(t) for t in tokens]\n",
    "\n",
    "\n",
    "    return tokens\n",
    "\n",
    "\n"
   ]
  },
  {
   "cell_type": "code",
   "execution_count": 25,
   "id": "7723a1f5",
   "metadata": {},
   "outputs": [
    {
     "name": "stdout",
     "output_type": "stream",
     "text": [
      "                                     job_description  \\\n",
      "0  <p><b>Work Location:</b></p>Mount Laurel, New ...   \n",
      "1  <p>DUTIES ANNUAL SALARY: $121,813 to $178,085 ...   \n",
      "2  <div><div><p><b>Title:</b>  Managing Consultan...   \n",
      "3  <p>Company Overview With 80,000 customers acro...   \n",
      "4  <div> <div>  Job Details </div> <div>  <div>  ...   \n",
      "\n",
      "                                              tokens  \n",
      "0  [work, location, mount, laurel, new, jersey, u...  \n",
      "1  [duty, annual, salary, 121, 813, 178, 085, sal...  \n",
      "2  [title, managing, consultant, data, architectu...  \n",
      "3  [company, overview, 000, customer, across, 150...  \n",
      "4  [job, detail, job, location, loveland, positio...  \n"
     ]
    }
   ],
   "source": [
    "df[\"tokens\"] = df[\"job_description\"].apply(clean_text)\n",
    "\n",
    "print(df[[\"job_description\", \"tokens\"]].head())"
   ]
  },
  {
   "cell_type": "markdown",
   "id": "1a47dd07",
   "metadata": {},
   "source": [
    "### Question 3\n",
    "\n",
    "Show an example before-and-after cleaning for one posting.\t"
   ]
  },
  {
   "cell_type": "code",
   "execution_count": 26,
   "id": "89c9cf90",
   "metadata": {},
   "outputs": [],
   "source": [
    "\n",
    "raw_text = df[\"job_description\"].iloc[0]"
   ]
  },
  {
   "cell_type": "code",
   "execution_count": 27,
   "id": "5bc6d086",
   "metadata": {},
   "outputs": [],
   "source": [
    "\n",
    "cleaned_tokens = clean_text(raw_text)"
   ]
  },
  {
   "cell_type": "code",
   "execution_count": 28,
   "id": "00d45c70",
   "metadata": {},
   "outputs": [
    {
     "data": {
      "text/plain": [
       "\"<p><b>Work Location:</b></p>Mount Laurel, New Jersey, United States of America<p></p><p><b>Hours:</b></p>40<p></p><p><b>Pay Details:</b></p>$68,640 - $112,320 USD<p></p><p>TD is committed to providing fair and equitable compensation opportunities to all colleagues. Growth opportunities and skill development are defining features of the colleague experience at TD. Our compensation policies and practices have been designed to allow colleagues to progress through the salary range over time as they progress in their role. The base pay actually offered may vary based upon the candidate's skills and experience, job-related knowledge, geographic location, and other specific business and organizational needs.</p><p></p><p>As a candidate, you are encouraged to ask compensation related questions and have an open dialogue with your recruiter who can provide you more specific details for this role.</p><p></p><p><b>Line of Business:</b></p>Enterprise Enabling Functions<p><b>Job Description:</b></p><p>The Sr Business Analyst plans, manages, leads and oversees the end-to-end delivery of requirements throughout the lifecycle of the project in alignment with the business and/or enterprise needs and strategies. Provides leadership and works collaboratively with stakeholders including business, technology and finance partners to support project benefits and changes to business processes, policies and systems across single or multiple Lines of Business (LoB).</p><p><b>Depth & Scope:</b></p><ul><li>Leads Requirements Management / work packages for Tier 3-4, low to moderate risk and regulatory projects with multiple stakeholders and across multiple LoB</li><li>Advanced to expert knowledge of business analysis, project delivery practices and standards across the project life-cycle</li><li>Gains/acquires sound to advanced understanding of business and user interaction with technology throughout project delivery</li><li>Works independently as the senior or lead business analyst and coaches and guides members within area of expertise</li><li>Identifies and leads problem resolution for complex issues at all levels</li><li>Contributes to the communication and change management activities across multiple stakeholders</li></ul><p><br/><b>Education & Experience: </b></p><ul><li>Undergraduate degree required</li><li>Business Analysis Accreditation is an asset</li><li>5+ years related business analysis experience required</li></ul><p></p><p><b>Preferred Qualifications: </b></p><ul><li>Requirements gathering and writing experience</li><li>TSYS environment knowledge</li><li>Credit card processing environment experience</li></ul><p></p><p><b>Customer Accountabilities:</b></p><ul><li>Leads a diverse range of stakeholders; communicates effectively by adapting style and technique to a diverse audience</li><li>Analyzes impacts to customers, stakeholders, employees, process, technology solutions to achieve business results</li><li>Understands and clarifies work packages of each assigned initiative/project inclusive of constraints (time, cost, people resources) and maintain a customer-centric approach</li><li>Provides recommendations and direction based on the end to end customer experience when making decisions</li><li>Leads and owns the project deliverables related to business requirements to meet the needs of the customer, employee, and business</li><li>Assesses and ensures that customer and employee experience / stakeholder impacts are appropriately managed</li><li>Engages appropriate stakeholders to identify and manage required outcomes of projects for the business</li><li>Provides on-going communication to key stakeholders, including the project sponsor, business project owner, project / program / portfolio manager to ensure they are aware of significant changes which impact requirements delivery against the overall project</li><li>Responds to inquiries and escalate concerns from stakeholders and partners at all levels in the organization</li><li>Identifies and leads problem resolution to ensure customer needs are met</li><li>Contributes to the application of change management best practices (e.g. stakeholder analysis, gap analysis, change planning, etc.)</li><li>Collaborates with the project manager and business sponsor to identify and ensure required resources are assigned to the project for successful delivery of requirements</li><li>Ensures timely notification and escalation of possible issues/problems while assessing options and recommendations for prompt resolution</li></ul><p></p><p><b>Shareholder Accountabilities:</b></p><ul><li>Leads requirements management on project(s) which are based on complexity, size and budget as defined by the project governance levels</li><li>Provides leadership / guidance and support in defining the business need or problem statement based on strategic drivers and identifying potential solutions</li><li>Identifies scope changes and complete analysis to determine impact to project benefits and risks</li><li>Facilitates and follows a structured approach to plan, elicit, analyze, document, communicate, and manage business requirements with stakeholders by applying a variety of elicitation techniques to probe, challenge and understand requirements according to the requirements management discipline</li><li>Identifies, documents and validates current state processes and work with the business and stakeholders to design the desired future state</li><li>Establishes and maintains full requirements traceability and work with the business to prioritize requirements and scope changes to ensure business needs are met</li><li>Collaborates with technology partners and provide recommendations to support development of: system requirements and design, testing plans, artifacts/deliverables to ensure business needs are met</li><li>Ensures project issues and concerns are addressed for clear articulation of business requirements (e.g. Business Systems Analyst)</li><li>Proactively identifies and tracks requirements risks, issues, assumptions, dependencies, constraints and anticipate and effectively manage risks related to requirements. Align decisions to TDs risk appetite</li><li>Develops mitigation plans or lead/contribute to the completion of necessary compliance/new process assessment templates</li><li>Contributes to Quality Assurance activities by supporting the development of test scripts and testing of developed solutions, including communication of issues and resolution</li><li>Adheres to Enterprise project governance controls to ensure projects meet all performance, quality and compliance standards and conforms to appropriate disciplines</li><li>Contributes to the development of the project plan and high-level work breakout session (WBS), identify and manage key risks and decisions</li><li>Owns and completes relevant work packages through collaboration with multiple stakeholders to prepare for operational readiness, managing deadlines and adjusting to changing work priorities</li><li>Takes ownership and communicate progress on work packages, including requirements management, in a concise and timely manner, escalating issues to project manager, partners and manager where appropriate</li><li>Assesses project change requests and their impacts on requirements, checking for alignment to project benefits at all phases</li><li>Develops efficient and effective solutions through analytical problem solving</li><li>Supports implementation / post implementation activities as defined in the project plan</li><li>Owns the delivery of high level requirements that drives successful cost estimation for the project and requirements changes due to any project change requests</li><li>Forecasts, defines and manages the requirements effort including cost and timeline</li><li>Supports the Request for Information (RFI) or Request for Proposal (RFP) with vendors if required</li><li>Contributes to the development of the seed funding request by ensuring project scope and benefits are clearly articulated and risks are identified</li><li>Identifies risks or issues with technology solution or design which may impact realization of project benefits and provide guidance and support to stakeholders in making good decisions to pro-actively resolve or mitigate potential risks/delays to the project</li><li>Ensures accuracy of the business requirements documentation to mitigate against project changes and reduce/manage cost to the project</li><li>Critiques and analyzes requirement change requests to challenge impact to original business need as defined by project charter</li><li>Solidifies business needs including problem statements, business objectives and strategic alignment to ensure accurate delivery of business requirements in support of the business case</li><li>Delivers detailed level requirements to support downstream estimates and delivery of business case anchored to business requirements</li><li>May contribute with business owner to define measures of success as defined in the project charter</li></ul><p></p><p><b>Employee Accountabilities:</b></p><ul><li>Contributes to team development of skills and capability through mentorship of junior/peer Business Analysts by sharing knowledge and experiences, leveraging best practices</li><li>Continuously enhances knowledge/expertise in business analysis to provide advice and guidance to business partners and project team regarding best practices</li><li>Leads, motivates and develops relationships with the business, stakeholders, and technology partners to develop productive working relationships</li><li>Engages, enables and leads stakeholders to agreement /consensus on the business requirements</li><li>Prioritizes and manages work load and capacity to deliver on project milestone dates</li><li>Participates in regular coaching and performance review sessions, employee surveys and action plans</li><li>Owns development plan including activities related to training, relationship building and on-the-job experiences that continually enhance individual business analysis capabilities to achieve career goals</li><li>Fosters a collaborative team environment by participating in team meetings and reward & recognition programs</li><li>Supports, mentors and provides guidance to junior level Business Analysts and peers</li><li>Contributes to a positive work environment by embracing diversity in the workplace and supporting and proudly representing TD in the community</li></ul><p><br/><b>Physical Requirements:</b></p><p>Never: 0%; Occasional: 1-33%; Frequent: 34-66%; Continuous: 67-100%</p><ul><li>Domestic Travel - Occasional</li><li>International Travel - Never</li><li>Performing sedentary work - Continuous</li><li>Performing multiple tasks - Continuous</li><li>Operating standard office equipment - Continuous</li><li>Responding quickly to sounds - Occasional</li><li>Sitting - Continuous</li><li>Standing - Occasional</li><li>Walking - Occasional</li><li>Moving safely in confined spaces - Occasional</li><li>Lifting/Carrying (under 25 lbs.) - Occasional</li><li>Lifting/Carrying (over 25 lbs.) - Never</li><li>Squatting - Occasional</li><li>Bending - Occasional</li><li>Kneeling - Never</li><li>Crawling - Never</li><li>Climbing - Never</li><li>Reaching overhead - Never</li><li>Reaching forward - Occasional</li><li>Pushing - Never</li><li>Pulling - Never</li><li>Twisting - Never</li><li>Concentrating for long periods of time - Continuous</li><li>Applying common sense to deal with problems involving standardized situations - Continuous</li><li>Reading, writing and comprehending instructions - Continuous</li><li>Adding, subtracting, multiplying and dividing - Continuous</li></ul><p></p><p>The above statements are intended to describe the general nature and level of work being performed by people assigned to this job. They are not intended to be an exhaustive list of all responsibilities, duties and skills required. The listed or specified responsibilities & duties are considered essential functions for ADA purposes.</p><p></p><p><b>Who We Are:</b><br/>TD is one of the world's leading global financial institutions and is the fifth largest bank in North America by branches/stores. Every day, we deliver legendary customer experiences to over 27 million households and businesses in Canada, the United States and around the world. More than 95,000 TD colleagues bring their skills, talent, and creativity to the Bank, those we serve, and the economies we support. We are guided by our vision to Be the Better Bank and our purpose to enrich the lives of our customers, communities and colleagues.</p><p></p><p>TD is deeply committed to being a leader in customer experience, that is why we believe that all colleagues, no matter where they work, are customer facing. As we build our business and deliver on our strategy, we are innovating to enhance the customer experience and build capabilities to shape the future of banking. Whether you've got years of banking experience or are just starting your career in financial services, we can help you realize your potential. Through regular leadership and development conversations to mentorship and training programs, we're here to support you towards your goals. As an organization, we keep growing - and so will you.</p><p></p><p><b>Our Total Rewards Package</b></p><p><br/>Our Total Rewards package reflects the investments we make in our colleagues to help them and their families achieve their financial, physical and mental well-being goals. Total Rewards at TD includes base salary and variable compensation/incentive awards (e.g., eligibility for cash and/or equity incentive awards, generally through participation in an incentive plan) and several other key plans such as health and well-being benefits, savings and retirement programs, paid time off (including Vacation PTO, Flex PTO, and Holiday PTO), banking benefits and discounts, career development, and reward and recognition. Learn more</p><p></p><p><b>Additional Information:</b><br/>We're delighted that you're considering building a career with TD. Through regular development conversations, training programs, and a competitive benefits plan, we're committed to providing the support our colleagues need to thrive both at work and at home.<br/><br/><b>Colleague Development </b><br/>If you're interested in a specific career path or are looking to build certain skills, we want to help you succeed. You'll have regular career, development, and performance conversations with your manager, as well as access to an online learning platform and a variety of mentoring programs to help you unlock future opportunities. Whether you have a passion for helping customers and want to expand your experience, or you want to coach and inspire your colleagues, there are many different career paths within our organization at TD - and we're committed to helping you identify opportunities that support your goals.<br/><br/><b>Training & Onboarding</b><br/>We will provide traini...\""
      ]
     },
     "execution_count": 28,
     "metadata": {},
     "output_type": "execute_result"
    }
   ],
   "source": [
    "raw_text\n",
    "\n"
   ]
  },
  {
   "cell_type": "code",
   "execution_count": 29,
   "id": "950e01fe",
   "metadata": {},
   "outputs": [
    {
     "data": {
      "text/plain": [
       "['work',\n",
       " 'location',\n",
       " 'mount',\n",
       " 'laurel',\n",
       " 'new',\n",
       " 'jersey',\n",
       " 'united',\n",
       " 'state',\n",
       " 'america',\n",
       " 'hour',\n",
       " 'pay',\n",
       " 'detail',\n",
       " '640',\n",
       " '112',\n",
       " '320',\n",
       " 'usd',\n",
       " 'committed',\n",
       " 'providing',\n",
       " 'fair',\n",
       " 'equitable',\n",
       " 'compensation',\n",
       " 'opportunity',\n",
       " 'colleague',\n",
       " 'growth',\n",
       " 'opportunity',\n",
       " 'skill',\n",
       " 'development',\n",
       " 'defining',\n",
       " 'feature',\n",
       " 'colleague',\n",
       " 'experience',\n",
       " 'compensation',\n",
       " 'policy',\n",
       " 'practice',\n",
       " 'designed',\n",
       " 'allow',\n",
       " 'colleague',\n",
       " 'progress',\n",
       " 'salary',\n",
       " 'range',\n",
       " 'time',\n",
       " 'progress',\n",
       " 'role',\n",
       " 'base',\n",
       " 'pay',\n",
       " 'actually',\n",
       " 'offered',\n",
       " 'may',\n",
       " 'vary',\n",
       " 'based',\n",
       " 'upon',\n",
       " 'candidate',\n",
       " 'skill',\n",
       " 'experience',\n",
       " 'job',\n",
       " 'related',\n",
       " 'knowledge',\n",
       " 'geographic',\n",
       " 'location',\n",
       " 'specific',\n",
       " 'business',\n",
       " 'organizational',\n",
       " 'need',\n",
       " 'candidate',\n",
       " 'encouraged',\n",
       " 'ask',\n",
       " 'compensation',\n",
       " 'related',\n",
       " 'question',\n",
       " 'open',\n",
       " 'dialogue',\n",
       " 'recruiter',\n",
       " 'provide',\n",
       " 'specific',\n",
       " 'detail',\n",
       " 'role',\n",
       " 'line',\n",
       " 'business',\n",
       " 'enterprise',\n",
       " 'enabling',\n",
       " 'function',\n",
       " 'job',\n",
       " 'description',\n",
       " 'business',\n",
       " 'analyst',\n",
       " 'plan',\n",
       " 'manages',\n",
       " 'lead',\n",
       " 'oversees',\n",
       " 'end',\n",
       " 'end',\n",
       " 'delivery',\n",
       " 'requirement',\n",
       " 'throughout',\n",
       " 'lifecycle',\n",
       " 'project',\n",
       " 'alignment',\n",
       " 'business',\n",
       " 'enterprise',\n",
       " 'need',\n",
       " 'strategy',\n",
       " 'provides',\n",
       " 'leadership',\n",
       " 'work',\n",
       " 'collaboratively',\n",
       " 'stakeholder',\n",
       " 'including',\n",
       " 'business',\n",
       " 'technology',\n",
       " 'finance',\n",
       " 'partner',\n",
       " 'support',\n",
       " 'project',\n",
       " 'benefit',\n",
       " 'change',\n",
       " 'business',\n",
       " 'process',\n",
       " 'policy',\n",
       " 'system',\n",
       " 'across',\n",
       " 'single',\n",
       " 'multiple',\n",
       " 'line',\n",
       " 'business',\n",
       " 'lob',\n",
       " 'depth',\n",
       " 'scope',\n",
       " 'lead',\n",
       " 'requirement',\n",
       " 'management',\n",
       " 'work',\n",
       " 'package',\n",
       " 'tier',\n",
       " 'low',\n",
       " 'moderate',\n",
       " 'risk',\n",
       " 'regulatory',\n",
       " 'project',\n",
       " 'multiple',\n",
       " 'stakeholder',\n",
       " 'across',\n",
       " 'multiple',\n",
       " 'lob',\n",
       " 'advanced',\n",
       " 'expert',\n",
       " 'knowledge',\n",
       " 'business',\n",
       " 'analysis',\n",
       " 'project',\n",
       " 'delivery',\n",
       " 'practice',\n",
       " 'standard',\n",
       " 'across',\n",
       " 'project',\n",
       " 'life',\n",
       " 'cycle',\n",
       " 'gain',\n",
       " 'acquires',\n",
       " 'sound',\n",
       " 'advanced',\n",
       " 'understanding',\n",
       " 'business',\n",
       " 'user',\n",
       " 'interaction',\n",
       " 'technology',\n",
       " 'throughout',\n",
       " 'project',\n",
       " 'delivery',\n",
       " 'work',\n",
       " 'independently',\n",
       " 'senior',\n",
       " 'lead',\n",
       " 'business',\n",
       " 'analyst',\n",
       " 'coach',\n",
       " 'guide',\n",
       " 'member',\n",
       " 'within',\n",
       " 'area',\n",
       " 'expertise',\n",
       " 'identifies',\n",
       " 'lead',\n",
       " 'problem',\n",
       " 'resolution',\n",
       " 'complex',\n",
       " 'issue',\n",
       " 'level',\n",
       " 'contributes',\n",
       " 'communication',\n",
       " 'change',\n",
       " 'management',\n",
       " 'activity',\n",
       " 'across',\n",
       " 'multiple',\n",
       " 'stakeholder',\n",
       " 'education',\n",
       " 'experience',\n",
       " 'undergraduate',\n",
       " 'degree',\n",
       " 'required',\n",
       " 'business',\n",
       " 'analysis',\n",
       " 'accreditation',\n",
       " 'asset',\n",
       " 'year',\n",
       " 'related',\n",
       " 'business',\n",
       " 'analysis',\n",
       " 'experience',\n",
       " 'required',\n",
       " 'preferred',\n",
       " 'qualification',\n",
       " 'requirement',\n",
       " 'gathering',\n",
       " 'writing',\n",
       " 'experience',\n",
       " 'tsys',\n",
       " 'environment',\n",
       " 'knowledge',\n",
       " 'credit',\n",
       " 'card',\n",
       " 'processing',\n",
       " 'environment',\n",
       " 'experience',\n",
       " 'customer',\n",
       " 'accountability',\n",
       " 'lead',\n",
       " 'diverse',\n",
       " 'range',\n",
       " 'stakeholder',\n",
       " 'communicates',\n",
       " 'effectively',\n",
       " 'adapting',\n",
       " 'style',\n",
       " 'technique',\n",
       " 'diverse',\n",
       " 'audience',\n",
       " 'analyzes',\n",
       " 'impact',\n",
       " 'customer',\n",
       " 'stakeholder',\n",
       " 'employee',\n",
       " 'process',\n",
       " 'technology',\n",
       " 'solution',\n",
       " 'achieve',\n",
       " 'business',\n",
       " 'result',\n",
       " 'understands',\n",
       " 'clarifies',\n",
       " 'work',\n",
       " 'package',\n",
       " 'assigned',\n",
       " 'initiative',\n",
       " 'project',\n",
       " 'inclusive',\n",
       " 'constraint',\n",
       " 'time',\n",
       " 'cost',\n",
       " 'people',\n",
       " 'resource',\n",
       " 'maintain',\n",
       " 'customer',\n",
       " 'centric',\n",
       " 'approach',\n",
       " 'provides',\n",
       " 'recommendation',\n",
       " 'direction',\n",
       " 'based',\n",
       " 'end',\n",
       " 'end',\n",
       " 'customer',\n",
       " 'experience',\n",
       " 'making',\n",
       " 'decision',\n",
       " 'lead',\n",
       " 'owns',\n",
       " 'project',\n",
       " 'deliverable',\n",
       " 'related',\n",
       " 'business',\n",
       " 'requirement',\n",
       " 'meet',\n",
       " 'need',\n",
       " 'customer',\n",
       " 'employee',\n",
       " 'business',\n",
       " 'assesses',\n",
       " 'ensures',\n",
       " 'customer',\n",
       " 'employee',\n",
       " 'experience',\n",
       " 'stakeholder',\n",
       " 'impact',\n",
       " 'appropriately',\n",
       " 'managed',\n",
       " 'engages',\n",
       " 'appropriate',\n",
       " 'stakeholder',\n",
       " 'identify',\n",
       " 'manage',\n",
       " 'required',\n",
       " 'outcome',\n",
       " 'project',\n",
       " 'business',\n",
       " 'provides',\n",
       " 'going',\n",
       " 'communication',\n",
       " 'key',\n",
       " 'stakeholder',\n",
       " 'including',\n",
       " 'project',\n",
       " 'sponsor',\n",
       " 'business',\n",
       " 'project',\n",
       " 'owner',\n",
       " 'project',\n",
       " 'program',\n",
       " 'portfolio',\n",
       " 'manager',\n",
       " 'ensure',\n",
       " 'aware',\n",
       " 'significant',\n",
       " 'change',\n",
       " 'impact',\n",
       " 'requirement',\n",
       " 'delivery',\n",
       " 'overall',\n",
       " 'project',\n",
       " 'responds',\n",
       " 'inquiry',\n",
       " 'escalate',\n",
       " 'concern',\n",
       " 'stakeholder',\n",
       " 'partner',\n",
       " 'level',\n",
       " 'organization',\n",
       " 'identifies',\n",
       " 'lead',\n",
       " 'problem',\n",
       " 'resolution',\n",
       " 'ensure',\n",
       " 'customer',\n",
       " 'need',\n",
       " 'met',\n",
       " 'contributes',\n",
       " 'application',\n",
       " 'change',\n",
       " 'management',\n",
       " 'best',\n",
       " 'practice',\n",
       " 'stakeholder',\n",
       " 'analysis',\n",
       " 'gap',\n",
       " 'analysis',\n",
       " 'change',\n",
       " 'planning',\n",
       " 'etc',\n",
       " 'collaborates',\n",
       " 'project',\n",
       " 'manager',\n",
       " 'business',\n",
       " 'sponsor',\n",
       " 'identify',\n",
       " 'ensure',\n",
       " 'required',\n",
       " 'resource',\n",
       " 'assigned',\n",
       " 'project',\n",
       " 'successful',\n",
       " 'delivery',\n",
       " 'requirement',\n",
       " 'ensures',\n",
       " 'timely',\n",
       " 'notification',\n",
       " 'escalation',\n",
       " 'possible',\n",
       " 'issue',\n",
       " 'problem',\n",
       " 'assessing',\n",
       " 'option',\n",
       " 'recommendation',\n",
       " 'prompt',\n",
       " 'resolution',\n",
       " 'shareholder',\n",
       " 'accountability',\n",
       " 'lead',\n",
       " 'requirement',\n",
       " 'management',\n",
       " 'project',\n",
       " 'based',\n",
       " 'complexity',\n",
       " 'size',\n",
       " 'budget',\n",
       " 'defined',\n",
       " 'project',\n",
       " 'governance',\n",
       " 'level',\n",
       " 'provides',\n",
       " 'leadership',\n",
       " 'guidance',\n",
       " 'support',\n",
       " 'defining',\n",
       " 'business',\n",
       " 'need',\n",
       " 'problem',\n",
       " 'statement',\n",
       " 'based',\n",
       " 'strategic',\n",
       " 'driver',\n",
       " 'identifying',\n",
       " 'potential',\n",
       " 'solution',\n",
       " 'identifies',\n",
       " 'scope',\n",
       " 'change',\n",
       " 'complete',\n",
       " 'analysis',\n",
       " 'determine',\n",
       " 'impact',\n",
       " 'project',\n",
       " 'benefit',\n",
       " 'risk',\n",
       " 'facilitates',\n",
       " 'follows',\n",
       " 'structured',\n",
       " 'approach',\n",
       " 'plan',\n",
       " 'elicit',\n",
       " 'analyze',\n",
       " 'document',\n",
       " 'communicate',\n",
       " 'manage',\n",
       " 'business',\n",
       " 'requirement',\n",
       " 'stakeholder',\n",
       " 'applying',\n",
       " 'variety',\n",
       " 'elicitation',\n",
       " 'technique',\n",
       " 'probe',\n",
       " 'challenge',\n",
       " 'understand',\n",
       " 'requirement',\n",
       " 'according',\n",
       " 'requirement',\n",
       " 'management',\n",
       " 'discipline',\n",
       " 'identifies',\n",
       " 'document',\n",
       " 'validates',\n",
       " 'current',\n",
       " 'state',\n",
       " 'process',\n",
       " 'work',\n",
       " 'business',\n",
       " 'stakeholder',\n",
       " 'design',\n",
       " 'desired',\n",
       " 'future',\n",
       " 'state',\n",
       " 'establishes',\n",
       " 'maintains',\n",
       " 'full',\n",
       " 'requirement',\n",
       " 'traceability',\n",
       " 'work',\n",
       " 'business',\n",
       " 'prioritize',\n",
       " 'requirement',\n",
       " 'scope',\n",
       " 'change',\n",
       " 'ensure',\n",
       " 'business',\n",
       " 'need',\n",
       " 'met',\n",
       " 'collaborates',\n",
       " 'technology',\n",
       " 'partner',\n",
       " 'provide',\n",
       " 'recommendation',\n",
       " 'support',\n",
       " 'development',\n",
       " 'system',\n",
       " 'requirement',\n",
       " 'design',\n",
       " 'testing',\n",
       " 'plan',\n",
       " 'artifact',\n",
       " 'deliverable',\n",
       " 'ensure',\n",
       " 'business',\n",
       " 'need',\n",
       " 'met',\n",
       " 'ensures',\n",
       " 'project',\n",
       " 'issue',\n",
       " 'concern',\n",
       " 'addressed',\n",
       " 'clear',\n",
       " 'articulation',\n",
       " 'business',\n",
       " 'requirement',\n",
       " 'business',\n",
       " 'system',\n",
       " 'analyst',\n",
       " 'proactively',\n",
       " 'identifies',\n",
       " 'track',\n",
       " 'requirement',\n",
       " 'risk',\n",
       " 'issue',\n",
       " 'assumption',\n",
       " 'dependency',\n",
       " 'constraint',\n",
       " 'anticipate',\n",
       " 'effectively',\n",
       " 'manage',\n",
       " 'risk',\n",
       " 'related',\n",
       " 'requirement',\n",
       " 'align',\n",
       " 'decision',\n",
       " 'tds',\n",
       " 'risk',\n",
       " 'appetite',\n",
       " 'develops',\n",
       " 'mitigation',\n",
       " 'plan',\n",
       " 'lead',\n",
       " 'contribute',\n",
       " 'completion',\n",
       " 'necessary',\n",
       " 'compliance',\n",
       " 'new',\n",
       " 'process',\n",
       " 'assessment',\n",
       " 'template',\n",
       " 'contributes',\n",
       " 'quality',\n",
       " 'assurance',\n",
       " 'activity',\n",
       " 'supporting',\n",
       " 'development',\n",
       " 'test',\n",
       " 'script',\n",
       " 'testing',\n",
       " 'developed',\n",
       " 'solution',\n",
       " 'including',\n",
       " 'communication',\n",
       " 'issue',\n",
       " 'resolution',\n",
       " 'adheres',\n",
       " 'enterprise',\n",
       " 'project',\n",
       " 'governance',\n",
       " 'control',\n",
       " 'ensure',\n",
       " 'project',\n",
       " 'meet',\n",
       " 'performance',\n",
       " 'quality',\n",
       " 'compliance',\n",
       " 'standard',\n",
       " 'conforms',\n",
       " 'appropriate',\n",
       " 'discipline',\n",
       " 'contributes',\n",
       " 'development',\n",
       " 'project',\n",
       " 'plan',\n",
       " 'high',\n",
       " 'level',\n",
       " 'work',\n",
       " 'breakout',\n",
       " 'session',\n",
       " 'wb',\n",
       " 'identify',\n",
       " 'manage',\n",
       " 'key',\n",
       " 'risk',\n",
       " 'decision',\n",
       " 'owns',\n",
       " 'completes',\n",
       " 'relevant',\n",
       " 'work',\n",
       " 'package',\n",
       " 'collaboration',\n",
       " 'multiple',\n",
       " 'stakeholder',\n",
       " 'prepare',\n",
       " 'operational',\n",
       " 'readiness',\n",
       " 'managing',\n",
       " 'deadline',\n",
       " 'adjusting',\n",
       " 'changing',\n",
       " 'work',\n",
       " 'priority',\n",
       " 'take',\n",
       " 'ownership',\n",
       " 'communicate',\n",
       " 'progress',\n",
       " 'work',\n",
       " 'package',\n",
       " 'including',\n",
       " 'requirement',\n",
       " 'management',\n",
       " 'concise',\n",
       " 'timely',\n",
       " 'manner',\n",
       " 'escalating',\n",
       " 'issue',\n",
       " 'project',\n",
       " 'manager',\n",
       " 'partner',\n",
       " 'manager',\n",
       " 'appropriate',\n",
       " 'assesses',\n",
       " 'project',\n",
       " 'change',\n",
       " 'request',\n",
       " 'impact',\n",
       " 'requirement',\n",
       " 'checking',\n",
       " 'alignment',\n",
       " 'project',\n",
       " 'benefit',\n",
       " 'phase',\n",
       " 'develops',\n",
       " 'efficient',\n",
       " 'effective',\n",
       " 'solution',\n",
       " 'analytical',\n",
       " 'problem',\n",
       " 'solving',\n",
       " 'support',\n",
       " 'implementation',\n",
       " 'post',\n",
       " 'implementation',\n",
       " 'activity',\n",
       " 'defined',\n",
       " 'project',\n",
       " 'plan',\n",
       " 'owns',\n",
       " 'delivery',\n",
       " 'high',\n",
       " 'level',\n",
       " 'requirement',\n",
       " 'drive',\n",
       " 'successful',\n",
       " 'cost',\n",
       " 'estimation',\n",
       " 'project',\n",
       " 'requirement',\n",
       " 'change',\n",
       " 'due',\n",
       " 'project',\n",
       " 'change',\n",
       " 'request',\n",
       " 'forecast',\n",
       " 'defines',\n",
       " 'manages',\n",
       " 'requirement',\n",
       " 'effort',\n",
       " 'including',\n",
       " 'cost',\n",
       " 'timeline',\n",
       " 'support',\n",
       " 'request',\n",
       " 'information',\n",
       " 'rfi',\n",
       " 'request',\n",
       " 'proposal',\n",
       " 'rfp',\n",
       " 'vendor',\n",
       " 'required',\n",
       " 'contributes',\n",
       " 'development',\n",
       " 'seed',\n",
       " 'funding',\n",
       " 'request',\n",
       " 'ensuring',\n",
       " 'project',\n",
       " 'scope',\n",
       " 'benefit',\n",
       " 'clearly',\n",
       " 'articulated',\n",
       " 'risk',\n",
       " 'identified',\n",
       " 'identifies',\n",
       " 'risk',\n",
       " 'issue',\n",
       " 'technology',\n",
       " 'solution',\n",
       " 'design',\n",
       " 'may',\n",
       " 'impact',\n",
       " 'realization',\n",
       " 'project',\n",
       " 'benefit',\n",
       " 'provide',\n",
       " 'guidance',\n",
       " 'support',\n",
       " 'stakeholder',\n",
       " 'making',\n",
       " 'good',\n",
       " 'decision',\n",
       " 'pro',\n",
       " 'actively',\n",
       " 'resolve',\n",
       " 'mitigate',\n",
       " 'potential',\n",
       " 'risk',\n",
       " 'delay',\n",
       " 'project',\n",
       " 'ensures',\n",
       " 'accuracy',\n",
       " 'business',\n",
       " 'requirement',\n",
       " 'documentation',\n",
       " 'mitigate',\n",
       " 'project',\n",
       " 'change',\n",
       " 'reduce',\n",
       " 'manage',\n",
       " 'cost',\n",
       " 'project',\n",
       " 'critique',\n",
       " 'analyzes',\n",
       " 'requirement',\n",
       " 'change',\n",
       " 'request',\n",
       " 'challenge',\n",
       " 'impact',\n",
       " 'original',\n",
       " 'business',\n",
       " 'need',\n",
       " 'defined',\n",
       " 'project',\n",
       " 'charter',\n",
       " 'solidifies',\n",
       " 'business',\n",
       " 'need',\n",
       " 'including',\n",
       " 'problem',\n",
       " 'statement',\n",
       " 'business',\n",
       " 'objective',\n",
       " 'strategic',\n",
       " 'alignment',\n",
       " 'ensure',\n",
       " 'accurate',\n",
       " 'delivery',\n",
       " 'business',\n",
       " 'requirement',\n",
       " 'support',\n",
       " 'business',\n",
       " 'case',\n",
       " 'delivers',\n",
       " 'detailed',\n",
       " 'level',\n",
       " 'requirement',\n",
       " 'support',\n",
       " 'downstream',\n",
       " 'estimate',\n",
       " 'delivery',\n",
       " 'business',\n",
       " 'case',\n",
       " 'anchored',\n",
       " 'business',\n",
       " 'requirement',\n",
       " 'may',\n",
       " 'contribute',\n",
       " 'business',\n",
       " 'owner',\n",
       " 'define',\n",
       " 'measure',\n",
       " 'success',\n",
       " 'defined',\n",
       " 'project',\n",
       " 'charter',\n",
       " 'employee',\n",
       " 'accountability',\n",
       " 'contributes',\n",
       " 'team',\n",
       " 'development',\n",
       " 'skill',\n",
       " 'capability',\n",
       " 'mentorship',\n",
       " 'junior',\n",
       " 'peer',\n",
       " 'business',\n",
       " 'analyst',\n",
       " 'sharing',\n",
       " 'knowledge',\n",
       " 'experience',\n",
       " 'leveraging',\n",
       " 'best',\n",
       " 'practice',\n",
       " 'continuously',\n",
       " 'enhances',\n",
       " 'knowledge',\n",
       " 'expertise',\n",
       " 'business',\n",
       " 'analysis',\n",
       " 'provide',\n",
       " 'advice',\n",
       " 'guidance',\n",
       " 'business',\n",
       " 'partner',\n",
       " 'project',\n",
       " 'team',\n",
       " 'regarding',\n",
       " 'best',\n",
       " 'practice',\n",
       " 'lead',\n",
       " 'motivates',\n",
       " 'develops',\n",
       " 'relationship',\n",
       " 'business',\n",
       " 'stakeholder',\n",
       " 'technology',\n",
       " 'partner',\n",
       " 'develop',\n",
       " 'productive',\n",
       " 'working',\n",
       " 'relationship',\n",
       " 'engages',\n",
       " 'enables',\n",
       " 'lead',\n",
       " 'stakeholder',\n",
       " 'agreement',\n",
       " 'consensus',\n",
       " 'business',\n",
       " 'requirement',\n",
       " 'prioritizes',\n",
       " 'manages',\n",
       " 'work',\n",
       " 'load',\n",
       " 'capacity',\n",
       " 'deliver',\n",
       " 'project',\n",
       " 'milestone',\n",
       " 'date',\n",
       " 'participates',\n",
       " 'regular',\n",
       " 'coaching',\n",
       " 'performance',\n",
       " 'review',\n",
       " 'session',\n",
       " 'employee',\n",
       " 'survey',\n",
       " 'action',\n",
       " 'plan',\n",
       " 'owns',\n",
       " 'development',\n",
       " 'plan',\n",
       " 'including',\n",
       " 'activity',\n",
       " 'related',\n",
       " 'training',\n",
       " 'relationship',\n",
       " 'building',\n",
       " 'job',\n",
       " 'experience',\n",
       " 'continually',\n",
       " 'enhance',\n",
       " 'individual',\n",
       " 'business',\n",
       " 'analysis',\n",
       " 'capability',\n",
       " 'achieve',\n",
       " 'career',\n",
       " 'goal',\n",
       " 'foster',\n",
       " 'collaborative',\n",
       " 'team',\n",
       " 'environment',\n",
       " 'participating',\n",
       " 'team',\n",
       " 'meeting',\n",
       " 'reward',\n",
       " 'recognition',\n",
       " 'program',\n",
       " 'support',\n",
       " 'mentor',\n",
       " 'provides',\n",
       " 'guidance',\n",
       " 'junior',\n",
       " 'level',\n",
       " 'business',\n",
       " 'analyst',\n",
       " 'peer',\n",
       " 'contributes',\n",
       " 'positive',\n",
       " 'work',\n",
       " 'environment',\n",
       " 'embracing',\n",
       " 'diversity',\n",
       " 'workplace',\n",
       " 'supporting',\n",
       " 'proudly',\n",
       " 'representing',\n",
       " 'community',\n",
       " 'physical',\n",
       " 'requirement',\n",
       " 'never',\n",
       " 'occasional',\n",
       " 'frequent',\n",
       " 'continuous',\n",
       " '100',\n",
       " 'domestic',\n",
       " 'travel',\n",
       " 'occasional',\n",
       " 'international',\n",
       " 'travel',\n",
       " 'never',\n",
       " 'performing',\n",
       " 'sedentary',\n",
       " 'work',\n",
       " 'continuous',\n",
       " 'performing',\n",
       " 'multiple',\n",
       " 'task',\n",
       " 'continuous',\n",
       " 'operating',\n",
       " 'standard',\n",
       " 'office',\n",
       " 'equipment',\n",
       " 'continuous',\n",
       " 'responding',\n",
       " 'quickly',\n",
       " 'sound',\n",
       " 'occasional',\n",
       " 'sitting',\n",
       " 'continuous',\n",
       " 'standing',\n",
       " 'occasional',\n",
       " 'walking',\n",
       " 'occasional',\n",
       " 'moving',\n",
       " 'safely',\n",
       " 'confined',\n",
       " 'space',\n",
       " 'occasional',\n",
       " 'lifting',\n",
       " 'carrying',\n",
       " 'lb',\n",
       " 'occasional',\n",
       " 'lifting',\n",
       " 'carrying',\n",
       " 'lb',\n",
       " 'never',\n",
       " 'squatting',\n",
       " 'occasional',\n",
       " 'bending',\n",
       " 'occasional',\n",
       " 'kneeling',\n",
       " 'never',\n",
       " 'crawling',\n",
       " 'never',\n",
       " 'climbing',\n",
       " 'never',\n",
       " 'reaching',\n",
       " 'overhead',\n",
       " 'never',\n",
       " 'reaching',\n",
       " 'forward',\n",
       " 'occasional',\n",
       " 'pushing',\n",
       " 'never',\n",
       " 'pulling',\n",
       " 'never',\n",
       " 'twisting',\n",
       " 'never',\n",
       " 'concentrating',\n",
       " 'long',\n",
       " 'period',\n",
       " 'time',\n",
       " 'continuous',\n",
       " 'applying',\n",
       " 'common',\n",
       " 'sense',\n",
       " 'deal',\n",
       " 'problem',\n",
       " 'involving',\n",
       " 'standardized',\n",
       " 'situation',\n",
       " 'continuous',\n",
       " 'reading',\n",
       " 'writing',\n",
       " 'comprehending',\n",
       " 'instruction',\n",
       " 'continuous',\n",
       " 'adding',\n",
       " 'subtracting',\n",
       " 'multiplying',\n",
       " 'dividing',\n",
       " ...]"
      ]
     },
     "execution_count": 29,
     "metadata": {},
     "output_type": "execute_result"
    }
   ],
   "source": [
    "cleaned_tokens"
   ]
  },
  {
   "cell_type": "markdown",
   "id": "691de591",
   "metadata": {},
   "source": [
    "### Question 4\n",
    "\n",
    "Word Frequency Analysis: Count the top 50 most frequent words across all cleaned job descriptions. Plot these in a labeled bar chart with the words on the y axis\t"
   ]
  },
  {
   "cell_type": "code",
   "execution_count": 30,
   "id": "73221bd2",
   "metadata": {},
   "outputs": [],
   "source": [
    "all_tokens = [tok for toks in df[\"tokens\"] for tok in toks]\n",
    "\n",
    "freq = Counter(all_tokens)\n",
    "\n",
    "top_50 = freq.most_common(50)"
   ]
  },
  {
   "cell_type": "code",
   "execution_count": 31,
   "id": "85d75de4",
   "metadata": {},
   "outputs": [
    {
     "data": {
      "image/png": "[encoded data removed]",
      "text/plain": [
       "<Figure size 1000x1200 with 1 Axes>"
      ]
     },
     "metadata": {},
     "output_type": "display_data"
    }
   ],
   "source": [
    "\n",
    "words, counts = zip(*top_50)\n",
    "\n",
    "plt.figure(figsize=(10, 12))\n",
    "plt.barh(words, counts, color=\"skyblue\")\n",
    "plt.xlabel(\"Frequency\")\n",
    "plt.ylabel(\"Word\")\n",
    "plt.title(\"Top 50 Most Frequent Words in Job Descriptions\")\n",
    "\n",
    "plt.gca().invert_yaxis()\n",
    "for i, c in enumerate(counts):\n",
    "    plt.text(c + 0.5, i, str(c), va=\"center\")\n",
    "\n",
    "plt.tight_layout()\n",
    "plt.show()"
   ]
  },
  {
   "cell_type": "code",
   "execution_count": 33,
   "id": "2e640490",
   "metadata": {},
   "outputs": [],
   "source": [
    "from sklearn.feature_extraction.text import TfidfVectorizer"
   ]
  },
  {
   "cell_type": "markdown",
   "id": "4245dae5",
   "metadata": {},
   "source": [
    "### Question 5\n",
    "\n",
    "TF-IDF Representation: Use scikit-learn’s TfidfVectorizer to represent all job descriptions as TF-IDF vectors. Print the shape of the TF-IDF matrix (number of jobs × number of terms).\t"
   ]
  },
  {
   "cell_type": "code",
   "execution_count": 34,
   "id": "2a084546",
   "metadata": {},
   "outputs": [
    {
     "name": "stdout",
     "output_type": "stream",
     "text": [
      "TF-IDF matrix shape: (3000, 23933)\n"
     ]
    }
   ],
   "source": [
    "df[\"clean_text_str\"] = df[\"tokens\"].apply(lambda toks: \" \".join(toks))\n",
    "\n",
    "tfidf = TfidfVectorizer()\n",
    "\n",
    "X_tfidf = tfidf.fit_transform(df[\"clean_text_str\"])\n",
    "\n",
    "print(\"TF-IDF matrix shape:\", X_tfidf.shape)"
   ]
  },
  {
   "cell_type": "markdown",
   "id": "aa6b723e",
   "metadata": {},
   "source": [
    "### Question 6\n",
    "\n",
    "For one posting, print the top 10 words with the highest TF-IDF scores (show both words and their scores)."
   ]
  },
  {
   "cell_type": "code",
   "execution_count": 36,
   "id": "237f2856",
   "metadata": {},
   "outputs": [
    {
     "name": "stdout",
     "output_type": "stream",
     "text": [
      "Top 10 TF-IDF words for job posting 0:\n",
      "project: 0.2891\n",
      "business: 0.2833\n",
      "occasional: 0.2083\n",
      "never: 0.1988\n",
      "requirement: 0.1957\n",
      "colleague: 0.1805\n",
      "contributes: 0.1526\n",
      "change: 0.1458\n",
      "stakeholder: 0.1424\n",
      "identifies: 0.1336\n"
     ]
    }
   ],
   "source": [
    "\n",
    "doc_index = 0\n",
    "row = X_tfidf[doc_index]\n",
    "\n",
    "row_array = row.toarray().ravel()\n",
    "\n",
    "\n",
    "terms = tfidf.get_feature_names_out()\n",
    "\n",
    "top_indices = row_array.argsort()[::-1][:10]\n",
    "\n",
    "print(f\"Top 10 TF-IDF words for job posting {doc_index}:\")\n",
    "for i in top_indices:\n",
    "    print(f\"{terms[i]}: {row_array[i]:.4f}\")\n"
   ]
  },
  {
   "cell_type": "markdown",
   "id": "600ef2da",
   "metadata": {},
   "source": [
    "### Question 7\n",
    "\n",
    "Calculate the cosine similarity between all job postings using tfidf vectors.  There is a handy cosine_similarity function in `sklearn.metrics.pairwise`.  If you pass it the tf-idf matrix, it will calculate all pairs of cosine_similarities for you.  You just have to figure out how to:\n",
    "1. Remove duplicate comparisons (don't need to include the similarity between 'a' and 'b' if you already have the similarity of 'b' and 'a')\n",
    "2. Remove comparisons of each description with itself.\n",
    "\n",
    "The cosine_similarity matrix with the tfidf matrix should produce a 3000 x 3000 matrix of cosine similarities (because you have 3000 job descriptions).  This is just like a correlation matrix.  The matrix is symmetrical around the diagonal with the diagonal being all 1's.  Essentially for the 2 points above, you should ignore the cosine similarities above the diagonal (point 1) and on the diagonal (point 2)"
   ]
  },
  {
   "cell_type": "code",
   "execution_count": 37,
   "id": "47ccac80",
   "metadata": {},
   "outputs": [],
   "source": [
    "from sklearn.metrics.pairwise import cosine_similarity\n"
   ]
  },
  {
   "cell_type": "code",
   "execution_count": 39,
   "id": "c68d768e",
   "metadata": {},
   "outputs": [
    {
     "name": "stdout",
     "output_type": "stream",
     "text": [
      "Cosine-similarity matrix shape: (3000, 3000)\n"
     ]
    }
   ],
   "source": [
    "\n",
    "S = cosine_similarity(X_tfidf, X_tfidf)\n",
    "print(\"Cosine-similarity matrix shape:\", S.shape)  \n",
    "\n",
    "n = S.shape[0]\n",
    "i_idx, j_idx = np.tril_indices(n, k=-1)            \n",
    "pairs = pd.DataFrame({\n",
    "    \"doc_i\": i_idx,\n",
    "    \"doc_j\": j_idx,\n",
    "    \"cosine_similarity\": S[i_idx, j_idx],\n",
    "})\n",
    "\n",
    "pairs_sorted = pairs.sort_values(\"cosine_similarity\", ascending=False)\n",
    "\n",
    "\n"
   ]
  },
  {
   "cell_type": "markdown",
   "id": "f8c74c51",
   "metadata": {},
   "source": [
    "### Question 8\n",
    "\n",
    "Display the top 10 most similar job posting ids"
   ]
  },
  {
   "cell_type": "code",
   "execution_count": 40,
   "id": "e1c073d2",
   "metadata": {},
   "outputs": [
    {
     "data": {
      "text/html": [
       "<div>\n",
       "<style scoped>\n",
       "    .dataframe tbody tr th:only-of-type {\n",
       "        vertical-align: middle;\n",
       "    }\n",
       "\n",
       "    .dataframe tbody tr th {\n",
       "        vertical-align: top;\n",
       "    }\n",
       "\n",
       "    .dataframe thead th {\n",
       "        text-align: right;\n",
       "    }\n",
       "</style>\n",
       "<table border=\"1\" class=\"dataframe\">\n",
       "  <thead>\n",
       "    <tr style=\"text-align: right;\">\n",
       "      <th></th>\n",
       "      <th>doc_i</th>\n",
       "      <th>doc_j</th>\n",
       "      <th>cosine_similarity</th>\n",
       "    </tr>\n",
       "  </thead>\n",
       "  <tbody>\n",
       "    <tr>\n",
       "      <th>2476284</th>\n",
       "      <td>2225</td>\n",
       "      <td>2084</td>\n",
       "      <td>1.0</td>\n",
       "    </tr>\n",
       "    <tr>\n",
       "      <th>416327</th>\n",
       "      <td>912</td>\n",
       "      <td>911</td>\n",
       "      <td>1.0</td>\n",
       "    </tr>\n",
       "    <tr>\n",
       "      <th>18043</th>\n",
       "      <td>190</td>\n",
       "      <td>88</td>\n",
       "      <td>1.0</td>\n",
       "    </tr>\n",
       "    <tr>\n",
       "      <th>15503</th>\n",
       "      <td>176</td>\n",
       "      <td>103</td>\n",
       "      <td>1.0</td>\n",
       "    </tr>\n",
       "    <tr>\n",
       "      <th>630002</th>\n",
       "      <td>1122</td>\n",
       "      <td>1121</td>\n",
       "      <td>1.0</td>\n",
       "    </tr>\n",
       "    <tr>\n",
       "      <th>1393612</th>\n",
       "      <td>1669</td>\n",
       "      <td>1666</td>\n",
       "      <td>1.0</td>\n",
       "    </tr>\n",
       "    <tr>\n",
       "      <th>7259</th>\n",
       "      <td>120</td>\n",
       "      <td>119</td>\n",
       "      <td>1.0</td>\n",
       "    </tr>\n",
       "    <tr>\n",
       "      <th>354060</th>\n",
       "      <td>841</td>\n",
       "      <td>840</td>\n",
       "      <td>1.0</td>\n",
       "    </tr>\n",
       "    <tr>\n",
       "      <th>8506</th>\n",
       "      <td>130</td>\n",
       "      <td>121</td>\n",
       "      <td>1.0</td>\n",
       "    </tr>\n",
       "    <tr>\n",
       "      <th>1560260</th>\n",
       "      <td>1766</td>\n",
       "      <td>1765</td>\n",
       "      <td>1.0</td>\n",
       "    </tr>\n",
       "  </tbody>\n",
       "</table>\n",
       "</div>"
      ],
      "text/plain": [
       "         doc_i  doc_j  cosine_similarity\n",
       "2476284   2225   2084                1.0\n",
       "416327     912    911                1.0\n",
       "18043      190     88                1.0\n",
       "15503      176    103                1.0\n",
       "630002    1122   1121                1.0\n",
       "1393612   1669   1666                1.0\n",
       "7259       120    119                1.0\n",
       "354060     841    840                1.0\n",
       "8506       130    121                1.0\n",
       "1560260   1766   1765                1.0"
      ]
     },
     "execution_count": 40,
     "metadata": {},
     "output_type": "execute_result"
    }
   ],
   "source": [
    "pairs_sorted.head(10)"
   ]
  },
  {
   "cell_type": "markdown",
   "id": "6a1b9488",
   "metadata": {},
   "source": [
    "### Question 9\n",
    "\n",
    "Are there any job descriptions that are the same (have a cosine similarity of 1)?  Why would this be?  Is our jid not unique?"
   ]
  },
  {
   "cell_type": "code",
   "execution_count": 41,
   "id": "20263f2e",
   "metadata": {},
   "outputs": [
    {
     "name": "stdout",
     "output_type": "stream",
     "text": [
      "Yes, there are job descriptions with cosine similarity = 1, meaning they are duplicates. This happens because \n",
      " The same description can be posted under different job IDs (so jid is not unique to the text) \n",
      " Or text differences were removed during cleaning, making them identical.\n"
     ]
    }
   ],
   "source": [
    "\n",
    "print('Yes, there are job descriptions with cosine similarity = 1, meaning they are duplicates. This happens because \\n The same description can be posted under different job IDs (so jid is not unique to the text) \\n Or text differences were removed during cleaning, making them identical.')"
   ]
  },
  {
   "cell_type": "markdown",
   "id": "6aed05cf",
   "metadata": {},
   "source": [
    "### Question 10\n",
    "\n",
    "Pick one \"Data Scientist\" and one \"Business Analyst\" posting and their cosine scores.  Describe how you selected them (job title, search result, etc....you choose)."
   ]
  },
  {
   "cell_type": "code",
   "execution_count": 42,
   "id": "3642d142",
   "metadata": {},
   "outputs": [
    {
     "name": "stdout",
     "output_type": "stream",
     "text": [
      "Data Scientist: ['Data_Scientist'] | index: 24\n",
      "Business Analyst: ['Business_Analyst', 'Business_Analyst'] | index: 0\n",
      "Cosine similarity: 0.10447141322661282\n"
     ]
    }
   ],
   "source": [
    "\n",
    "ds_idx = df.index[\n",
    "    df[\"search\"].astype(str).apply(lambda s: \"data\" in s.lower() and \"scientist\" in s.lower())\n",
    "][0]\n",
    "\n",
    "ba_idx = df.index[\n",
    "    df[\"search\"].astype(str).apply(lambda s: \"business\" in s.lower() and \"analyst\" in s.lower())\n",
    "][0]\n",
    "\n",
    "\n",
    "print(\"Data Scientist:\", df.loc[ds_idx, \"search\"], \"| index:\", ds_idx)\n",
    "print(\"Business Analyst:\", df.loc[ba_idx, \"search\"], \"| index:\", ba_idx)\n",
    "print(\"Cosine similarity:\", float(S[ds_idx, ba_idx]))\n"
   ]
  },
  {
   "cell_type": "code",
   "execution_count": 50,
   "id": "53d0063c",
   "metadata": {},
   "outputs": [
    {
     "name": "stdout",
     "output_type": "stream",
     "text": [
      "I selected one job posting with the title “Data Scientist” by searching the job_title column for that string, and one posting with the title “Business Analyst” in the same way. \n",
      " I then looked up their cosine similarity in the TF-IDF similarity matrix computed earlier.\n"
     ]
    }
   ],
   "source": [
    "print(\"I selected one job posting with the title “Data Scientist” by searching the job_title column for that string, and one posting with the title “Business Analyst” in the same way. \\n I then looked up their cosine similarity in the TF-IDF similarity matrix computed earlier.\")"
   ]
  },
  {
   "cell_type": "markdown",
   "id": "4ccaea3e",
   "metadata": {},
   "source": [
    "### Question 11\n",
    "\n",
    "Compute and report the cosine similarity between their TF-IDF vectors.\tBriefly answer what this score means and why these two postings are so similar."
   ]
  },
  {
   "cell_type": "code",
   "execution_count": 45,
   "id": "6f0f038f",
   "metadata": {},
   "outputs": [
    {
     "name": "stdout",
     "output_type": "stream",
     "text": [
      "Cosine similarity (Data Scientist vs Business Analyst): 0.1045\n",
      "Interpretation: Low similarity — largely different vocab/focus; only generic overlaps remain after cleaning.\n"
     ]
    }
   ],
   "source": [
    "\n",
    "print(f\"Cosine similarity (Data Scientist vs Business Analyst): {cos_score:.4f}\")\n",
    "\n",
    "if cos_score >= 0.7:\n",
    "    why = \"High similarity — likely near-duplicates or shared template/stack.\"\n",
    "elif cos_score >= 0.3:\n",
    "    why = \"Moderate overlap — shared skills/phrases (e.g., SQL, reporting) but different emphasis.\"\n",
    "else:\n",
    "    why = \"Low similarity — largely different vocab/focus; only generic overlaps remain after cleaning.\"\n",
    "print(\"Interpretation:\", why)\n",
    "\n"
   ]
  },
  {
   "cell_type": "markdown",
   "id": "a8668ef4",
   "metadata": {},
   "source": [
    "### Question 12\n",
    "\n",
    "GloVe Embedding Exploration\t - Download the wiki Glove ('glove-wiki-gigaword-50') and load embeddings. Print the embedding size and the vector for the word \"data\" (show first 10 values).\t"
   ]
  },
  {
   "cell_type": "code",
   "execution_count": 46,
   "id": "7fe516f5",
   "metadata": {},
   "outputs": [],
   "source": [
    "import gensim.downloader as api"
   ]
  },
  {
   "cell_type": "code",
   "execution_count": 47,
   "id": "bef88210",
   "metadata": {},
   "outputs": [
    {
     "name": "stdout",
     "output_type": "stream",
     "text": [
      "Embedding size: 50\n",
      "First 10 values for 'data': [ 0.531  -0.5587  1.7674  0.4482  0.2234 -0.3456 -0.7768 -0.9612  1.1669\n",
      "  0.0743]\n"
     ]
    }
   ],
   "source": [
    "\n",
    "glove = api.load(\"glove-wiki-gigaword-50\")\n",
    "\n",
    "print(\"Embedding size:\", glove.vector_size)\n",
    "\n",
    "vec = glove.get_vector(\"data\")\n",
    "print(\"First 10 values for 'data':\", np.round(vec[:10], 4))\n"
   ]
  },
  {
   "cell_type": "markdown",
   "id": "52c35355",
   "metadata": {},
   "source": [
    "### Question 13\n",
    "\n",
    "GloVe Word Similarity\tUsing GloVe, compute the cosine similarity between \"data\" and \"information\", and between \"data\" and \"banana\".\tReport both similarities and interpret the difference.\t"
   ]
  },
  {
   "cell_type": "code",
   "execution_count": 48,
   "id": "d2fbc632",
   "metadata": {},
   "outputs": [
    {
     "name": "stdout",
     "output_type": "stream",
     "text": [
      "Cosine similarity between 'data' and 'information': 0.8330\n",
      "Cosine similarity between 'data' and 'banana': 0.0392\n",
      "'data' is much closer to 'information' than to 'banana' in GloVe space (semantic relatedness).\n"
     ]
    }
   ],
   "source": [
    "\n",
    "v_data, v_info, v_banana = glove.get_vector(\"data\"), glove.get_vector(\"information\"), glove.get_vector(\"banana\")\n",
    "\n",
    "u_data, u_info, u_banana = v_data/np.linalg.norm(v_data), v_info/np.linalg.norm(v_info), v_banana/np.linalg.norm(v_banana)\n",
    "\n",
    "\n",
    "sim_di = float(u_data @ u_info)    \n",
    "sim_db = float(u_data @ u_banana)   \n",
    "\n",
    "print(f\"Cosine similarity between 'data' and 'information': {sim_di:.4f}\")\n",
    "print(f\"Cosine similarity between 'data' and 'banana': {sim_db:.4f}\")\n",
    "print(\"'data' is much closer to 'information' than to 'banana' in GloVe space (semantic relatedness).\")\n"
   ]
  },
  {
   "cell_type": "markdown",
   "id": "921c7ec2",
   "metadata": {},
   "source": [
    "### Question 14\n",
    "\n",
    "Create a function that takes a tokenized document and calculates the average Glove Word Embedding over all the words in the document.  You can ignore words in the document that do not have a Glove embedding.  Print out the shape of the first job's average vector.  It should be (50, )."
   ]
  },
  {
   "cell_type": "code",
   "execution_count": null,
   "id": "cbaa4482",
   "metadata": {},
   "outputs": [
    {
     "name": "stdout",
     "output_type": "stream",
     "text": [
      "(50,)\n"
     ]
    }
   ],
   "source": [
    "\n",
    "\n",
    "zero = np.zeros(glove.vector_size, dtype=np.float32)\n",
    "avg_glove = lambda toks: np.array([glove.get_vector(w) for w in toks if w in glove.key_to_index] or [zero], dtype=np.float32).mean(axis=0)\n",
    "\n",
    "df[\"avg_glove\"] = df[\"tokens\"].apply(avg_glove)\n",
    "print(df[\"avg_glove\"].iloc[0].shape) \n",
    "\n"
   ]
  },
  {
   "cell_type": "markdown",
   "id": "dd7926f9",
   "metadata": {},
   "source": [
    "### Question 15\n",
    "\n",
    "Calculate the average vector for each job description and display the first job's average embedding"
   ]
  },
  {
   "cell_type": "code",
   "execution_count": 60,
   "id": "eb260622",
   "metadata": {},
   "outputs": [
    {
     "data": {
      "text/plain": [
       "array([ 0.24480323,  0.1586301 ,  0.0264233 , -0.02866395,  0.1781219 ,\n",
       "        0.10397331, -0.19161983, -0.22664416,  0.29498714,  0.06367066,\n",
       "        0.08133088,  0.12506495, -0.17494936, -0.02676441,  0.03472069,\n",
       "        0.08856054,  0.12850203,  0.05425157,  0.2016416 , -0.33700523,\n",
       "        0.30425668,  0.03015198, -0.16889541, -0.10216811,  0.09851063,\n",
       "       -1.0147789 , -0.13439803, -0.27360666,  0.11376904,  0.1365024 ,\n",
       "        2.6912756 ,  0.1909358 , -0.2145812 , -0.5648101 ,  0.01099952,\n",
       "       -0.02765331, -0.0607409 ,  0.18407978, -0.07574118, -0.18857023,\n",
       "       -0.12397043, -0.26282626,  0.0895144 ,  0.20426393, -0.17178404,\n",
       "       -0.07682566,  0.05082985,  0.5205807 ,  0.00739848,  0.33185205],\n",
       "      dtype=float32)"
      ]
     },
     "execution_count": 60,
     "metadata": {},
     "output_type": "execute_result"
    }
   ],
   "source": [
    "\n",
    "first_vec = df[\"avg_glove\"].iloc[0]       \n",
    "first_vec\n",
    "\n",
    "\n"
   ]
  },
  {
   "cell_type": "markdown",
   "id": "157347fc",
   "metadata": {},
   "source": [
    "### Question 16\n",
    "\n",
    "Below is a prompt.  Calculate that prompt's average word embedding and print it out."
   ]
  },
  {
   "cell_type": "code",
   "execution_count": 57,
   "id": "f46721c6",
   "metadata": {},
   "outputs": [],
   "source": [
    "text = 'I would like to research jobs related to machine learning engineering in the healthcare sector in Waco, TX, please.  I would like to focus on big data and cloud processes'\n"
   ]
  },
  {
   "cell_type": "code",
   "execution_count": 64,
   "id": "1db91c99",
   "metadata": {},
   "outputs": [
    {
     "name": "stdout",
     "output_type": "stream",
     "text": [
      "[ 2.86852926e-01  8.26006383e-02  2.64733970e-01  7.71619454e-02\n",
      " -8.98534618e-03  6.78210929e-02 -4.38796759e-01 -4.19714957e-01\n",
      "  2.64110446e-01  1.78846717e-03  5.85984392e-03  1.72964692e-01\n",
      " -2.45218500e-01 -1.08827231e-02  2.98431162e-02  2.33812615e-01\n",
      " -2.82584671e-02  2.03637943e-01  1.04103588e-01 -4.89192903e-01\n",
      "  3.86372060e-01  7.24908486e-02 -4.12849635e-02 -1.04996294e-01\n",
      "  1.05570152e-01 -1.21745217e+00 -5.41617215e-01 -2.62660116e-01\n",
      "  2.08945364e-01 -8.86276886e-02  2.92063308e+00  1.07858405e-01\n",
      " -1.97621629e-01 -6.23118460e-01 -1.07104301e-01 -6.43399730e-03\n",
      " -2.51076669e-01  7.55153075e-02  4.83056515e-01 -1.32814154e-01\n",
      " -1.16177045e-01 -1.89332560e-01  4.05361317e-02  3.82623672e-01\n",
      "  2.25902110e-01  1.20822169e-01  1.92293301e-01  3.86110693e-01\n",
      " -5.77199273e-02  4.01471406e-01]\n"
     ]
    }
   ],
   "source": [
    "\n",
    "tokens = clean_text(text)\n",
    "avg_prompt_vec = avg_glove(tokens)\n",
    "\n",
    "print(avg_prompt_vec)\n"
   ]
  },
  {
   "cell_type": "markdown",
   "id": "4d65ec7f",
   "metadata": {},
   "source": [
    "### Question 17\n",
    "\n",
    "Calculate the cosine similarity between each of the job descriptions average embeddings and the average embedding of the text above.  Display the top 5 most relevant search results."
   ]
  },
  {
   "cell_type": "code",
   "execution_count": null,
   "id": "de05a615",
   "metadata": {},
   "outputs": [
    {
     "name": "stdout",
     "output_type": "stream",
     "text": [
      "                                                 search  cosine_similarity\n",
      "1640                                     [Data_Analyst]           0.972085\n",
      "2012                        [Machine_Learning_Engineer]           0.970358\n",
      "997   [Machine_Learning_Engineer, Machine_Learning_E...           0.969489\n",
      "1504                                     [Data_Analyst]           0.969114\n",
      "1755                                   [ai_ml_engineer]           0.968481\n"
     ]
    }
   ],
   "source": [
    "\n",
    "\n",
    "p_norm = np.linalg.norm(avg_prompt_vec)\n",
    "sims = df[\"avg_glove\"].apply(lambda v: float(np.dot(v, avg_prompt_vec) / (np.linalg.norm(v) * p_norm)) if np.linalg.norm(v) and p_norm else 0.0)\n",
    "top5 = sims.nlargest(5)\n",
    "print(df.loc[top5.index, [\"search\"]].assign(cosine_similarity=top5.values))\n",
    "\n"
   ]
  },
  {
   "cell_type": "markdown",
   "id": "59244483",
   "metadata": {},
   "source": [
    "### Question 18\n",
    "\n",
    "Display the 5 least relevant results"
   ]
  },
  {
   "cell_type": "code",
   "execution_count": 67,
   "id": "8fd785de",
   "metadata": {},
   "outputs": [
    {
     "name": "stdout",
     "output_type": "stream",
     "text": [
      "                          search  cosine_similarity\n",
      "919           [Business_Analyst]           0.013858\n",
      "2454              [nlp_engineer]           0.092752\n",
      "2999              [Data_Analyst]           0.754390\n",
      "2971  [Computer_Vision_Engineer]           0.807761\n",
      "2994            [Data_Architect]           0.852732\n"
     ]
    }
   ],
   "source": [
    "\n",
    "bottom5 = sims.nsmallest(5)\n",
    "print(df.loc[bottom5.index, [\"search\"]].assign(cosine_similarity=bottom5.values))\n"
   ]
  },
  {
   "cell_type": "markdown",
   "id": "96cfb185",
   "metadata": {},
   "source": [
    "### Question 19\n",
    "\n",
    "Why do you think these results are the least relevant?"
   ]
  },
  {
   "cell_type": "code",
   "execution_count": 69,
   "id": "e1243d8f",
   "metadata": {},
   "outputs": [
    {
     "name": "stdout",
     "output_type": "stream",
     "text": [
      "They diverge from ML-engineering in healthcare (BA/NLP/CV/Architect) which focus on big data and cloud, and GloVe averaging + OOV reduce similarity.\n"
     ]
    }
   ],
   "source": [
    "print(\"They diverge from ML-engineering in healthcare (BA/NLP/CV/Architect) which focus on big data and cloud, and GloVe averaging + OOV reduce similarity.\")\n"
   ]
  },
  {
   "cell_type": "markdown",
   "id": "5301f9d9",
   "metadata": {},
   "source": [
    "### Question 20\n",
    "\n",
    "Train Word2Vec (CBOW) - Train a Word2Vec CBOW model using all cleaned job descriptions.  Use a vector size of 100 a window of 5 and a min_count of 2.  Print the vocab size of your word embeddings."
   ]
  },
  {
   "cell_type": "code",
   "execution_count": 70,
   "id": "761ceb84",
   "metadata": {},
   "outputs": [
    {
     "name": "stdout",
     "output_type": "stream",
     "text": [
      "Vocab size: 14996\n"
     ]
    }
   ],
   "source": [
    "from gensim.models import Word2Vec\n",
    "\n",
    "sentences = df[\"tokens\"].tolist()\n",
    "w2v_cbow = Word2Vec(sentences=sentences, vector_size=100, window=5, min_count=2, sg=0, workers=4)\n",
    "print(\"Vocab size:\", len(w2v_cbow.wv.index_to_key))\n"
   ]
  },
  {
   "cell_type": "markdown",
   "id": "a972fc5f",
   "metadata": {},
   "source": [
    "### Question 21\n",
    "\n",
    "Train Word2Vec (Skip-gram) - Repeat above with Skip-gram. Print the vocab size of your word embeddings."
   ]
  },
  {
   "cell_type": "code",
   "execution_count": 71,
   "id": "966e9a5a",
   "metadata": {},
   "outputs": [
    {
     "name": "stdout",
     "output_type": "stream",
     "text": [
      "Vocab size: 14996\n"
     ]
    }
   ],
   "source": [
    "\n",
    "sentences = df[\"tokens\"].tolist()\n",
    "w2v_sg = Word2Vec(sentences=sentences, vector_size=100, window=5, min_count=2, sg=1, workers=4)\n",
    "print(\"Vocab size:\", len(w2v_sg.wv.index_to_key))\n"
   ]
  },
  {
   "cell_type": "markdown",
   "id": "da81d01c",
   "metadata": {},
   "source": [
    "### Question 22\n",
    "\n",
    "For the word \"analyst\", use both models to find top 10 most similar words (by model similarity)."
   ]
  },
  {
   "cell_type": "code",
   "execution_count": 78,
   "id": "34deb210",
   "metadata": {},
   "outputs": [
    {
     "name": "stdout",
     "output_type": "stream",
     "text": [
      "CBOW:\n"
     ]
    },
    {
     "data": {
      "text/plain": [
       "[('scientist', 0.7551721930503845),\n",
       " ('senior', 0.6738243699073792),\n",
       " ('manager', 0.644967257976532),\n",
       " ('architect', 0.6305323839187622),\n",
       " ('engineer', 0.6181486248970032),\n",
       " ('director', 0.6033787727355957),\n",
       " ('principal', 0.581783652305603),\n",
       " ('title', 0.574409008026123),\n",
       " ('specialist', 0.5530061721801758),\n",
       " ('experienced', 0.5507054924964905)]"
      ]
     },
     "execution_count": 78,
     "metadata": {},
     "output_type": "execute_result"
    }
   ],
   "source": [
    "\n",
    "print(\"CBOW:\")\n",
    "w2v_cbow.wv.most_similar(\"analyst\", topn=10)"
   ]
  },
  {
   "cell_type": "code",
   "execution_count": 79,
   "id": "23314fcc",
   "metadata": {},
   "outputs": [
    {
     "name": "stdout",
     "output_type": "stream",
     "text": [
      "Skip-gram:\n"
     ]
    },
    {
     "data": {
      "text/plain": [
       "[('scientist', 0.7468262910842896),\n",
       " ('oim', 0.6906632781028748),\n",
       " ('eliciting', 0.6748767495155334),\n",
       " ('senior', 0.6727015972137451),\n",
       " ('cfo', 0.6678683161735535),\n",
       " ('bordereau', 0.6655311584472656),\n",
       " ('architect', 0.6622529029846191),\n",
       " ('journeyman', 0.6601313948631287),\n",
       " ('iii', 0.6591331958770752),\n",
       " ('insxcloud', 0.6586403846740723)]"
      ]
     },
     "execution_count": 79,
     "metadata": {},
     "output_type": "execute_result"
    }
   ],
   "source": [
    "\n",
    "print(\"Skip-gram:\")\n",
    "w2v_sg.wv.most_similar(\"analyst\", topn=10)"
   ]
  },
  {
   "cell_type": "markdown",
   "id": "0d1e3563",
   "metadata": {},
   "source": [
    "### Question 23\n",
    "\n",
    "Compare differences in the most similar words found in the previous question. Which model seems to capture better job-related relationships? Support your answer with examples from your results and your interpretation.\t"
   ]
  },
  {
   "cell_type": "code",
   "execution_count": 82,
   "id": "fa52702e",
   "metadata": {},
   "outputs": [
    {
     "name": "stdout",
     "output_type": "stream",
     "text": [
      "CBOW: returns job-title/seniority neighbors for 'analyst' (scientist, manager, engineer, director, principal) a bit clean, role-focused.\n",
      "Skip-gram: mixes in niche/jargon (oim, bordereau, insxcloud, iii, journeyman, cfo) alongside a few roles which is a bit noisier.\n",
      "Better model: CBOW captures job-related relationships better on this corpus.\n",
      "Mostly because the CBOW clusters around roles/levels; SG surfaces rare/abbrev tokens—likely due to small/heterogeneous data and min_count=2.\n"
     ]
    }
   ],
   "source": [
    "print(\"CBOW: returns job-title/seniority neighbors for 'analyst' (scientist, manager, engineer, director, principal) a bit clean, role-focused.\")\n",
    "print(\"Skip-gram: mixes in niche/jargon (oim, bordereau, insxcloud, iii, journeyman, cfo) alongside a few roles which is a bit noisier.\")\n",
    "print(\"Better model: CBOW captures job-related relationships better on this corpus.\")\n",
    "print(\"Mostly because the CBOW clusters around roles/levels; SG surfaces rare/abbrev tokens—likely due to small/heterogeneous data and min_count=2.\")\n"
   ]
  },
  {
   "cell_type": "markdown",
   "id": "ce77bd64",
   "metadata": {},
   "source": [
    "### Question 24\n",
    "\n",
    "Compare word embeddings for \"remote\" and \"onsite\".\tFor each, list top 5 closest words (by cosine similarity) and interpret what they suggest about contextual usage in job postings."
   ]
  },
  {
   "cell_type": "code",
   "execution_count": 84,
   "id": "1d14cd94",
   "metadata": {},
   "outputs": [
    {
     "name": "stdout",
     "output_type": "stream",
     "text": [
      "CBOW top-5 for 'remote': [('onsite', 0.8653201460838318), ('hybrid', 0.8461679220199585), ('arrangement', 0.8071743249893188), ('thursday', 0.7660254836082458), ('fully', 0.7598357796669006)]\n",
      "CBOW top-5 for 'onsite': [('monday', 0.8971225023269653), ('friday', 0.8877599835395813), ('thursday', 0.887339174747467), ('shift', 0.8702402114868164), ('remote', 0.8653201460838318)]\n",
      "Skip-gram top-5 for 'remote': [('hybrid', 0.7816068530082703), ('onsite', 0.7449387907981873), ('remotely', 0.7331514954566956), ('arrangement', 0.7265554666519165), ('columbus', 0.7224100232124329)]\n",
      "Skip-gram top-5 for 'onsite': [('wednesday', 0.8064658045768738), ('tuesday', 0.8018878102302551), ('thursday', 0.7898299098014832), ('monday', 0.7789046764373779), ('telework', 0.7705782651901245)]\n",
      "Interpretation for 'remote': neighbors typically reflect WFH/hybrid/flexible policy and distributed work cues.\n",
      "Interpretation for 'onsite': neighbors typically reflect location/shift/relocation terms and physical-presence requirements (lab/facility).\n"
     ]
    }
   ],
   "source": [
    "print(\"CBOW top-5 for 'remote':\", w2v_cbow.wv.most_similar(\"remote\", topn=5))\n",
    "print(\"CBOW top-5 for 'onsite':\", w2v_cbow.wv.most_similar(\"onsite\", topn=5))\n",
    "print(\"Skip-gram top-5 for 'remote':\", w2v_sg.wv.most_similar(\"remote\", topn=5))\n",
    "print(\"Skip-gram top-5 for 'onsite':\", w2v_sg.wv.most_similar(\"onsite\", topn=5))\n",
    "\n",
    "print(\"Interpretation for 'remote': neighbors typically reflect WFH/hybrid/flexible policy and distributed work cues.\")\n",
    "print(\"Interpretation for 'onsite': neighbors typically reflect location/shift/relocation terms and physical-presence requirements (lab/facility).\")\n"
   ]
  },
  {
   "cell_type": "markdown",
   "id": "3969cf43",
   "metadata": {},
   "source": [
    "### Question 25\n",
    "\n",
    "If you were searching for a remote or onsite job, which word do you think would help you search those jobs based on the word vectors displayed above"
   ]
  },
  {
   "cell_type": "code",
   "execution_count": 85,
   "id": "1ac12c78",
   "metadata": {},
   "outputs": [
    {
     "name": "stdout",
     "output_type": "stream",
     "text": [
      "Remote jobs: use 'remote' (strong nearest neighbors: hybrid, telework, remotely).\n",
      "Onsite jobs: use 'onsite' (also search variants: 'on-site', 'on site').\n"
     ]
    }
   ],
   "source": [
    "print(\"Remote jobs: use 'remote' (strong nearest neighbors: hybrid, telework, remotely).\")\n",
    "print(\"Onsite jobs: use 'onsite' (also search variants: 'on-site', 'on site').\")\n"
   ]
  },
  {
   "cell_type": "markdown",
   "id": "b851f1d8",
   "metadata": {},
   "source": [
    "### Question 26\n",
    "\n",
    "Using the code below, extract the word vectors for the words below, reduce their dimensionality and plot them in 2 dimensions"
   ]
  },
  {
   "cell_type": "code",
   "execution_count": 87,
   "id": "100df2ce",
   "metadata": {},
   "outputs": [
    {
     "data": {
      "image/png": "[encoded data removed]",
      "text/plain": [
       "<Figure size 1200x500 with 2 Axes>"
      ]
     },
     "metadata": {},
     "output_type": "display_data"
    }
   ],
   "source": [
    "\n",
    "from sklearn.decomposition import PCA\n",
    "\n",
    "\n",
    "words = [\"analyst\", \"engineer\", \"scientist\", \"developer\", \"manager\"]\n",
    "\n",
    "cbow_vecs = np.vstack([w2v_cbow.wv[w] for w in words])\n",
    "sg_vecs   = np.vstack([w2v_sg.wv[w]   for w in words])\n",
    "\n",
    "\n",
    "pca = PCA(n_components=2, random_state=0)\n",
    "cbow_2d = pca.fit_transform(cbow_vecs)\n",
    "sg_2d   = pca.fit_transform(sg_vecs)\n",
    "\n",
    "plt.figure(figsize=(12,5))\n",
    "\n",
    "plt.subplot(1,2,1)\n",
    "plt.scatter(cbow_2d[:,0], cbow_2d[:,1])\n",
    "for i, w in enumerate(words):\n",
    "    plt.text(cbow_2d[i,0]+0.01, cbow_2d[i,1]+0.01, w)\n",
    "plt.title(\"CBOW Embeddings\")\n",
    "\n",
    "plt.subplot(1,2,2)\n",
    "plt.scatter(sg_2d[:,0], sg_2d[:,1])\n",
    "for i, w in enumerate(words):\n",
    "    plt.text(sg_2d[i,0]+0.01, sg_2d[i,1]+0.01, w)\n",
    "plt.title(\"Skip-gram Embeddings\")\n",
    "\n",
    "plt.tight_layout()\n",
    "plt.show()\n"
   ]
  },
  {
   "cell_type": "markdown",
   "id": "4e496886",
   "metadata": {},
   "source": [
    "### Question 27\n",
    "\n",
    "Based on the graphs above, what would you say are the most similar roles?"
   ]
  },
  {
   "cell_type": "code",
   "execution_count": 88,
   "id": "a4e6a7b4",
   "metadata": {},
   "outputs": [
    {
     "name": "stdout",
     "output_type": "stream",
     "text": [
      "Most similar roles for CBOW are Scientist and Engineer; then Skip-gram are Engineer and Developer.\n"
     ]
    }
   ],
   "source": [
    "print(\"Most similar roles for CBOW are Scientist and Engineer; then Skip-gram are Engineer and Developer.\")\n"
   ]
  }
 ],
 "metadata": {
  "kernelspec": {
   "display_name": "Python 3",
   "language": "python",
   "name": "python3"
  },
  "language_info": {
   "codemirror_mode": {
    "name": "ipython",
    "version": 3
   },
   "file_extension": ".py",
   "mimetype": "text/x-python",
   "name": "python",
   "nbconvert_exporter": "python",
   "pygments_lexer": "ipython3",
   "version": "3.12.10"
  }
 },
 "nbformat": 4,
 "nbformat_minor": 5
}
